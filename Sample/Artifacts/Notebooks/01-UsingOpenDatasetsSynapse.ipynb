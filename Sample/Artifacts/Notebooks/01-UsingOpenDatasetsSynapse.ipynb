{
  "nbformat": 4,
  "nbformat_minor": 2,
  "metadata": {
    "kernelspec": {
      "name": "synapse_pyspark",
      "display_name": "Synapse PySpark"
    },
    "language_info": {
      "name": "python"
    },
    "save_output": true,
    "synapse_widget": {
      "version": "0.1",
      "state": {
        "50b52121-74c2-4b97-933b-557c2cee5a3d": {
          "type": "Synapse.DataFrame",
          "sync_state": {
            "table": {
              "rows": [
                {
                  "0": "count",
                  "1": "923257",
                  "2": "923257",
                  "3": "923257",
                  "4": "923257",
                  "5": "923257",
                  "6": "923257",
                  "7": "923257",
                  "8": "923257",
                  "9": "923257",
                  "10": "923257",
                  "11": "923257",
                  "12": "923257",
                  "13": "923257",
                  "14": "17606",
                  "15": "17606",
                  "16": "17606",
                  "17": "0",
                  "18": "923257",
                  "19": "923257",
                  "20": "923257"
                },
                {
                  "0": "mean",
                  "1": "null",
                  "2": "1.833860994284365",
                  "3": "1.357852688904606",
                  "4": "3.2325295231988496",
                  "5": "1.0264538909534444",
                  "6": "16.112515713388373",
                  "7": "1.0154323227443713",
                  "8": "2018.0",
                  "9": "5.1364462982679795",
                  "10": "5.1364462982679795",
                  "11": "13.844344532454127",
                  "12": "4.137266221647927",
                  "13": "13.697660564718166",
                  "14": "null",
                  "15": "null",
                  "16": "null",
                  "17": "null",
                  "18": "18.58190665884031",
                  "19": "19.26542663635369",
                  "20": "4213.8777393510145"
                },
                {
                  "0": "stddev",
                  "1": "null",
                  "2": "0.372205570280615",
                  "3": "1.0397434350543042",
                  "4": "3.7213549381277544",
                  "5": "2.074783792187912",
                  "6": "13.492789079321522",
                  "7": "0.12326468519506639",
                  "8": "0.0",
                  "9": "0.3432620479749415",
                  "10": "0.3432620479749415",
                  "11": "9.330046641186325",
                  "12": "1.982096526293111",
                  "13": "5.987036976846423",
                  "14": "null",
                  "15": "null",
                  "16": "null",
                  "17": "null",
                  "18": "3.6046653323635867",
                  "19": "8.120658513433671",
                  "20": "4389.942208506073"
                },
                {
                  "0": "min",
                  "1": "US",
                  "2": "1",
                  "3": "0",
                  "4": "0.0",
                  "5": "-2.0",
                  "6": "-235.0",
                  "7": "1",
                  "8": "2018",
                  "9": "5",
                  "10": "5",
                  "11": "1",
                  "12": "1",
                  "13": "0",
                  "14": "United States",
                  "15": "Memorial Day",
                  "16": "Memorial Day",
                  "17": "null",
                  "18": "11.900000000000006",
                  "19": "1.0",
                  "20": "0.0"
                },
                {
                  "0": "max",
                  "1": "US",
                  "2": "2",
                  "3": "9",
                  "4": "621.1",
                  "5": "450.0",
                  "6": "2704.8",
                  "7": "2",
                  "8": "2018",
                  "9": "6",
                  "10": "6",
                  "11": "31",
                  "12": "7",
                  "13": "23",
                  "14": "United States",
                  "15": "Memorial Day",
                  "16": "Memorial Day",
                  "17": "null",
                  "18": "26.072330097087377",
                  "19": "24.0",
                  "20": "9999.0"
                }
              ],
              "schema": [
                {
                  "key": "0",
                  "name": "summary",
                  "type": "string"
                },
                {
                  "key": "1",
                  "name": "country_code",
                  "type": "string"
                },
                {
                  "key": "2",
                  "name": "vendorID",
                  "type": "string"
                },
                {
                  "key": "3",
                  "name": "passengerCount",
                  "type": "string"
                },
                {
                  "key": "4",
                  "name": "tripDistance",
                  "type": "string"
                },
                {
                  "key": "5",
                  "name": "tipAmount",
                  "type": "string"
                },
                {
                  "key": "6",
                  "name": "totalAmount",
                  "type": "string"
                },
                {
                  "key": "7",
                  "name": "tripType",
                  "type": "string"
                },
                {
                  "key": "8",
                  "name": "puYear",
                  "type": "string"
                },
                {
                  "key": "9",
                  "name": "puMonth",
                  "type": "string"
                },
                {
                  "key": "10",
                  "name": "month_num",
                  "type": "string"
                },
                {
                  "key": "11",
                  "name": "day_of_month",
                  "type": "string"
                },
                {
                  "key": "12",
                  "name": "day_of_week",
                  "type": "string"
                },
                {
                  "key": "13",
                  "name": "hour_of_day",
                  "type": "string"
                },
                {
                  "key": "14",
                  "name": "countryOrRegion",
                  "type": "string"
                },
                {
                  "key": "15",
                  "name": "holidayName",
                  "type": "string"
                },
                {
                  "key": "16",
                  "name": "normalizeHolidayName",
                  "type": "string"
                },
                {
                  "key": "17",
                  "name": "avg_snowDepth",
                  "type": "string"
                },
                {
                  "key": "18",
                  "name": "avg_temperature",
                  "type": "string"
                },
                {
                  "key": "19",
                  "name": "max_precipTime",
                  "type": "string"
                },
                {
                  "key": "20",
                  "name": "max_precipDepth",
                  "type": "string"
                }
              ]
            },
            "isSummary": false,
            "language": "scala"
          },
          "persist_state": {
            "view": {
              "type": "details",
              "tableOptions": {},
              "chartOptions": {
                "chartType": "bar",
                "aggregationType": "count",
                "categoryFieldKeys": [
                  "0"
                ],
                "seriesFieldKeys": [
                  "0"
                ],
                "isStacked": false
              }
            }
          }
        }
      }
    }
  },
  "cells": [
    {
      "cell_type": "markdown",
      "metadata": {},
      "source": [
        "# Using Azure Open Datasets in Synapse - Enrich NYC Green Taxi Data with Holiday and Weather\n",
        "\n",
        "Synapse has [Azure Open Datasets](https://azure.microsoft.com/en-us/services/open-datasets/) package pre-installed. This notebook provides examples of how to enrich NYC Green Taxi Data with Holiday and Weather with focusing on :\n",
        "- read Azure Open Dataset\n",
        "- manipulate the data to prepare for further analysis, including column projection, filtering, grouping and joins etc. \n",
        "- create a Spark table to be used in other notebooks for modeling training"
      ]
    },
    {
      "cell_type": "markdown",
      "metadata": {},
      "source": [
        "## Data loading \n",
        "Let's first load the [NYC green taxi trip records](https://azure.microsoft.com/en-us/services/open-datasets/catalog/nyc-taxi-limousine-commission-green-taxi-trip-records/). The Open Datasets package contains a class representing each data source (NycTlcGreen for example) to easily filter date parameters before downloading."
      ]
    },
    {
      "cell_type": "code",
      "execution_count": 1,
      "outputs": [
        {
          "output_type": "display_data",
          "data": {
            "application/vnd.livy.statement-meta+json": {
              "spark_pool": "small",
              "session_id": 12,
              "statement_id": 3,
              "state": "finished",
              "livy_statement_state": "available",
              "queued_time": "2021-02-23T05:48:45.1428873Z",
              "execution_start_time": "2021-02-23T05:49:30.436192Z",
              "execution_finish_time": "2021-02-23T05:49:42.6634293Z"
            },
            "text/plain": "StatementMeta(small, 12, 3, Finished, Available)"
          },
          "metadata": {}
        },
        {
          "output_type": "execute_result",
          "data": {
            "text/plain": ""
          },
          "execution_count": 1,
          "metadata": {}
        }
      ],
      "metadata": {},
      "source": [
        "from azureml.opendatasets import NycTlcGreen\n",
        "\n",
        "from datetime import datetime\n",
        "from dateutil import parser\n",
        "end_date = parser.parse('2018-06-06')\n",
        "start_date = parser.parse('2018-05-01')\n",
        "\n",
        "nyc_tlc = NycTlcGreen(start_date=start_date, end_date=end_date)\n",
        "nyc_tlc_df = nyc_tlc.to_spark_dataframe()"
      ]
    },
    {
      "cell_type": "code",
      "execution_count": 2,
      "outputs": [
        {
          "output_type": "display_data",
          "data": {
            "application/vnd.livy.statement-meta+json": {
              "spark_pool": "small",
              "session_id": 12,
              "statement_id": 4,
              "state": "finished",
              "livy_statement_state": "available",
              "queued_time": "2021-02-23T05:48:45.1738475Z",
              "execution_start_time": "2021-02-23T05:49:42.731222Z",
              "execution_finish_time": "2021-02-23T05:49:46.8082479Z"
            },
            "text/plain": "StatementMeta(small, 12, 4, Finished, Available)"
          },
          "metadata": {}
        },
        {
          "output_type": "execute_result",
          "data": {
            "text/plain": "+--------+-------------------+-------------------+--------------+------------+------------+------------+---------------+--------------+----------------+---------------+----------+---------------+-----------+----------+-----+------+--------------------+---------+-----------+--------+-----------+--------+------+-------+\n|vendorID|lpepPickupDatetime |lpepDropoffDatetime|passengerCount|tripDistance|puLocationId|doLocationId|pickupLongitude|pickupLatitude|dropoffLongitude|dropoffLatitude|rateCodeID|storeAndFwdFlag|paymentType|fareAmount|extra|mtaTax|improvementSurcharge|tipAmount|tollsAmount|ehailFee|totalAmount|tripType|puYear|puMonth|\n+--------+-------------------+-------------------+--------------+------------+------------+------------+---------------+--------------+----------------+---------------+----------+---------------+-----------+----------+-----+------+--------------------+---------+-----------+--------+-----------+--------+------+-------+\n|2       |2018-06-02 14:10:02|2018-06-02 14:30:23|1             |2.5         |41          |247         |null           |null          |null            |null           |1         |N              |1          |14.5      |0.0  |0.5   |0.3                 |3.06     |0.0        |null    |18.36      |1       |2018  |6      |\n|2       |2018-06-02 14:36:36|2018-06-02 14:41:11|1             |0.45        |42          |42          |null           |null          |null            |null           |1         |N              |2          |5.0       |0.0  |0.5   |0.3                 |0.0      |0.0        |null    |5.8        |1       |2018  |6      |\n|2       |2018-06-04 11:18:01|2018-06-04 11:20:58|1             |0.8         |74          |74          |null           |null          |null            |null           |1         |N              |2          |4.5       |0.0  |0.5   |0.3                 |0.0      |0.0        |null    |5.3        |1       |2018  |6      |\n|2       |2018-06-02 17:47:28|2018-06-02 18:01:06|1             |1.68        |74          |42          |null           |null          |null            |null           |1         |N              |2          |10.5      |0.0  |0.5   |0.3                 |0.0      |0.0        |null    |11.3       |1       |2018  |6      |\n|1       |2018-06-02 17:24:06|2018-06-02 17:44:21|3             |6.9         |93          |131         |null           |null          |null            |null           |1         |N              |1          |22.0      |0.0  |0.5   |0.3                 |3.42     |0.0        |null    |26.22      |1       |2018  |6      |\n+--------+-------------------+-------------------+--------------+------------+------------+------------+---------------+--------------+----------------+---------------+----------+---------------+-----------+----------+-----+------+--------------------+---------+-----------+--------+-----------+--------+------+-------+\nonly showing top 5 rows"
          },
          "execution_count": 2,
          "metadata": {}
        }
      ],
      "metadata": {},
      "source": [
        "# Display 5 rows\n",
        "\n",
        "nyc_tlc_df.show(5, truncate = False)"
      ]
    },
    {
      "cell_type": "markdown",
      "metadata": {},
      "source": [
        "Now that the initial data is loaded. Let's do some projection on the data to \n",
        "- create new columns for the month number, day of month, day of week, and hour of day. These info is going to be used in the training model to factor in time-based seasonality.\n",
        "- add a static feature for the country code to join holiday data. "
      ]
    },
    {
      "cell_type": "code",
      "execution_count": 3,
      "outputs": [
        {
          "output_type": "display_data",
          "data": {
            "application/vnd.livy.statement-meta+json": {
              "spark_pool": "small",
              "session_id": 12,
              "statement_id": 5,
              "state": "finished",
              "livy_statement_state": "available",
              "queued_time": "2021-02-23T05:48:45.2015534Z",
              "execution_start_time": "2021-02-23T05:49:46.8788621Z",
              "execution_finish_time": "2021-02-23T05:49:48.9155288Z"
            },
            "text/plain": "StatementMeta(small, 12, 5, Finished, Available)"
          },
          "metadata": {}
        },
        {
          "output_type": "execute_result",
          "data": {
            "text/plain": ""
          },
          "execution_count": 3,
          "metadata": {}
        }
      ],
      "metadata": {},
      "source": [
        "# Extract month, day of month, and day of week from pickup datetime and add a static column for the country code to join holiday data. \n",
        "\n",
        "import pyspark.sql.functions as f\n",
        "\n",
        "nyc_tlc_df_expand = nyc_tlc_df.withColumn('datetime',f.to_date('lpepPickupDatetime'))\\\n",
        "                .withColumn('month_num',f.month(nyc_tlc_df.lpepPickupDatetime))\\\n",
        "                .withColumn('day_of_month',f.dayofmonth(nyc_tlc_df.lpepPickupDatetime))\\\n",
        "                .withColumn('day_of_week',f.dayofweek(nyc_tlc_df.lpepPickupDatetime))\\\n",
        "                .withColumn('hour_of_day',f.hour(nyc_tlc_df.lpepPickupDatetime))\\\n",
        "                .withColumn('country_code',f.lit('US'))"
      ]
    },
    {
      "cell_type": "markdown",
      "metadata": {},
      "source": [
        "Remove some of the columns that won't need for modeling or additional feature building.\n",
        "\n",
        "\n",
        ""
      ]
    },
    {
      "cell_type": "code",
      "execution_count": 4,
      "outputs": [
        {
          "output_type": "display_data",
          "data": {
            "application/vnd.livy.statement-meta+json": {
              "spark_pool": "small",
              "session_id": 12,
              "statement_id": 6,
              "state": "finished",
              "livy_statement_state": "available",
              "queued_time": "2021-02-23T05:48:45.2233358Z",
              "execution_start_time": "2021-02-23T05:49:48.9903985Z",
              "execution_finish_time": "2021-02-23T05:49:51.0278694Z"
            },
            "text/plain": "StatementMeta(small, 12, 6, Finished, Available)"
          },
          "metadata": {}
        },
        {
          "output_type": "execute_result",
          "data": {
            "text/plain": ""
          },
          "execution_count": 4,
          "metadata": {}
        }
      ],
      "metadata": {},
      "source": [
        "# Remove unused columns from nyc green taxi data\n",
        "\n",
        "columns_to_remove = [\"lpepDropoffDatetime\", \"puLocationId\", \"doLocationId\", \"pickupLongitude\", \n",
        "                     \"pickupLatitude\", \"dropoffLongitude\",\"dropoffLatitude\" ,\"rateCodeID\", \n",
        "                     \"storeAndFwdFlag\",\"paymentType\", \"fareAmount\", \"extra\", \"mtaTax\",\n",
        "                     \"improvementSurcharge\", \"tollsAmount\", \"ehailFee\", \"tripType \"  \n",
        "                    ]\n",
        "\n",
        "nyc_tlc_df_clean = nyc_tlc_df_expand.select([column for column in nyc_tlc_df_expand.columns if column not in columns_to_remove])"
      ]
    },
    {
      "cell_type": "code",
      "execution_count": 5,
      "outputs": [
        {
          "output_type": "display_data",
          "data": {
            "application/vnd.livy.statement-meta+json": {
              "spark_pool": "small",
              "session_id": 12,
              "statement_id": 7,
              "state": "finished",
              "livy_statement_state": "available",
              "queued_time": "2021-02-23T05:48:45.2481907Z",
              "execution_start_time": "2021-02-23T05:49:51.0945368Z",
              "execution_finish_time": "2021-02-23T05:49:55.1784356Z"
            },
            "text/plain": "StatementMeta(small, 12, 7, Finished, Available)"
          },
          "metadata": {}
        },
        {
          "output_type": "execute_result",
          "data": {
            "text/plain": "+--------+-------------------+--------------+------------+---------+-----------+--------+------+-------+----------+---------+------------+-----------+-----------+------------+\n|vendorID| lpepPickupDatetime|passengerCount|tripDistance|tipAmount|totalAmount|tripType|puYear|puMonth|  datetime|month_num|day_of_month|day_of_week|hour_of_day|country_code|\n+--------+-------------------+--------------+------------+---------+-----------+--------+------+-------+----------+---------+------------+-----------+-----------+------------+\n|       2|2018-06-02 14:10:02|             1|         2.5|     3.06|      18.36|       1|  2018|      6|2018-06-02|        6|           2|          7|         14|          US|\n|       2|2018-06-02 14:36:36|             1|        0.45|      0.0|        5.8|       1|  2018|      6|2018-06-02|        6|           2|          7|         14|          US|\n|       2|2018-06-04 11:18:01|             1|         0.8|      0.0|        5.3|       1|  2018|      6|2018-06-04|        6|           4|          2|         11|          US|\n|       2|2018-06-02 17:47:28|             1|        1.68|      0.0|       11.3|       1|  2018|      6|2018-06-02|        6|           2|          7|         17|          US|\n|       1|2018-06-02 17:24:06|             3|         6.9|     3.42|      26.22|       1|  2018|      6|2018-06-02|        6|           2|          7|         17|          US|\n+--------+-------------------+--------------+------------+---------+-----------+--------+------+-------+----------+---------+------------+-----------+-----------+------------+\nonly showing top 5 rows"
          },
          "execution_count": 5,
          "metadata": {}
        }
      ],
      "metadata": {},
      "source": [
        "# Display 5 rows\n",
        "nyc_tlc_df_clean.show(5)"
      ]
    },
    {
      "cell_type": "markdown",
      "metadata": {},
      "source": [
        "## Enrich with holiday data\n",
        "Now that we have taxi data downloaded and roughly prepared, add in holiday data as additional features. Holiday-specific features will assist model accuracy, as major holidays are times where taxi demand increases dramatically and supply becomes limited. \n",
        "\n",
        "Let's load the [public holidays](https://azure.microsoft.com/en-us/services/open-datasets/catalog/public-holidays/) from Azure Open datasets.\n",
        ""
      ]
    },
    {
      "cell_type": "code",
      "execution_count": 6,
      "outputs": [
        {
          "output_type": "display_data",
          "data": {
            "application/vnd.livy.statement-meta+json": {
              "spark_pool": "small",
              "session_id": 12,
              "statement_id": 8,
              "state": "finished",
              "livy_statement_state": "available",
              "queued_time": "2021-02-23T05:48:45.2711862Z",
              "execution_start_time": "2021-02-23T05:49:55.2489266Z",
              "execution_finish_time": "2021-02-23T05:50:01.366896Z"
            },
            "text/plain": "StatementMeta(small, 12, 8, Finished, Available)"
          },
          "metadata": {}
        },
        {
          "output_type": "execute_result",
          "data": {
            "text/plain": "+---------------+----------------------------+----------------------------+-------------+-----------------+-------------------+\n|countryOrRegion|holidayName                 |normalizeHolidayName        |isPaidTimeOff|countryRegionCode|date               |\n+---------------+----------------------------+----------------------------+-------------+-----------------+-------------------+\n|Argentina      |Día del Trabajo [Labour Day]|Día del Trabajo [Labour Day]|null         |AR               |2018-05-01 00:00:00|\n|Austria        |Staatsfeiertag              |Staatsfeiertag              |null         |AT               |2018-05-01 00:00:00|\n|Belarus        |Праздник труда              |Праздник труда              |null         |BY               |2018-05-01 00:00:00|\n|Belgium        |Dag van de Arbeid           |Dag van de Arbeid           |null         |BE               |2018-05-01 00:00:00|\n|Brazil         |Dia Mundial do Trabalho     |Dia Mundial do Trabalho     |null         |BR               |2018-05-01 00:00:00|\n+---------------+----------------------------+----------------------------+-------------+-----------------+-------------------+\nonly showing top 5 rows"
          },
          "execution_count": 6,
          "metadata": {}
        }
      ],
      "metadata": {},
      "source": [
        "from azureml.opendatasets import PublicHolidays\n",
        "\n",
        "hol = PublicHolidays(start_date=start_date, end_date=end_date)\n",
        "hol_df = hol.to_spark_dataframe()\n",
        "\n",
        "# Display data\n",
        "hol_df.show(5, truncate = False)"
      ]
    },
    {
      "cell_type": "markdown",
      "metadata": {},
      "source": [
        "Rename the countryRegionCode and date columns to match the respective field names from the taxi data, and also normalize the time so it can be used as a key. "
      ]
    },
    {
      "cell_type": "code",
      "execution_count": 7,
      "outputs": [
        {
          "output_type": "display_data",
          "data": {
            "application/vnd.livy.statement-meta+json": {
              "spark_pool": "small",
              "session_id": 12,
              "statement_id": 9,
              "state": "finished",
              "livy_statement_state": "available",
              "queued_time": "2021-02-23T05:48:45.2945952Z",
              "execution_start_time": "2021-02-23T05:50:01.4356845Z",
              "execution_finish_time": "2021-02-23T05:50:03.4708764Z"
            },
            "text/plain": "StatementMeta(small, 12, 9, Finished, Available)"
          },
          "metadata": {}
        },
        {
          "output_type": "execute_result",
          "data": {
            "text/plain": "+---------------+--------------------+--------------------+-------------+------------+-------------------+----------+\n|countryOrRegion|         holidayName|normalizeHolidayName|isPaidTimeOff|country_code|               date|  datetime|\n+---------------+--------------------+--------------------+-------------+------------+-------------------+----------+\n|      Argentina|Día del Trabajo [...|Día del Trabajo [...|         null|          AR|2018-05-01 00:00:00|2018-05-01|\n|        Austria|      Staatsfeiertag|      Staatsfeiertag|         null|          AT|2018-05-01 00:00:00|2018-05-01|\n|        Belarus|      Праздник труда|      Праздник труда|         null|          BY|2018-05-01 00:00:00|2018-05-01|\n|        Belgium|   Dag van de Arbeid|   Dag van de Arbeid|         null|          BE|2018-05-01 00:00:00|2018-05-01|\n|         Brazil|Dia Mundial do Tr...|Dia Mundial do Tr...|         null|          BR|2018-05-01 00:00:00|2018-05-01|\n+---------------+--------------------+--------------------+-------------+------------+-------------------+----------+\nonly showing top 5 rows"
          },
          "execution_count": 7,
          "metadata": {}
        }
      ],
      "metadata": {},
      "source": [
        "hol_df_clean = hol_df.withColumnRenamed('countryRegionCode','country_code')\\\n",
        "            .withColumn('datetime',f.to_date('date'))\n",
        "\n",
        "hol_df_clean.show(5)"
      ]
    },
    {
      "cell_type": "markdown",
      "metadata": {},
      "source": [
        "Next, join the holiday data with the taxi data by performing a left-join. This will preserve all records from taxi data, but add in holiday data where it exists for the corresponding datetime and country_code, which in this case is always \"US\". Preview the data to verify that they were merged correctly."
      ]
    },
    {
      "cell_type": "code",
      "execution_count": 8,
      "outputs": [
        {
          "output_type": "display_data",
          "data": {
            "application/vnd.livy.statement-meta+json": {
              "spark_pool": "small",
              "session_id": 12,
              "statement_id": 10,
              "state": "finished",
              "livy_statement_state": "available",
              "queued_time": "2021-02-23T05:48:45.3148669Z",
              "execution_start_time": "2021-02-23T05:50:03.5436056Z",
              "execution_finish_time": "2021-02-23T05:50:07.617242Z"
            },
            "text/plain": "StatementMeta(small, 12, 10, Finished, Available)"
          },
          "metadata": {}
        },
        {
          "output_type": "execute_result",
          "data": {
            "text/plain": "+----------+------------+--------+-------------------+--------------+------------+---------+-----------+--------+------+-------+---------+------------+-----------+-----------+---------------+-----------+--------------------+-------------+----+\n|  datetime|country_code|vendorID| lpepPickupDatetime|passengerCount|tripDistance|tipAmount|totalAmount|tripType|puYear|puMonth|month_num|day_of_month|day_of_week|hour_of_day|countryOrRegion|holidayName|normalizeHolidayName|isPaidTimeOff|date|\n+----------+------------+--------+-------------------+--------------+------------+---------+-----------+--------+------+-------+---------+------------+-----------+-----------+---------------+-----------+--------------------+-------------+----+\n|2018-06-02|          US|       2|2018-06-02 14:10:02|             1|         2.5|     3.06|      18.36|       1|  2018|      6|        6|           2|          7|         14|           null|       null|                null|         null|null|\n|2018-06-02|          US|       2|2018-06-02 14:36:36|             1|        0.45|      0.0|        5.8|       1|  2018|      6|        6|           2|          7|         14|           null|       null|                null|         null|null|\n|2018-06-04|          US|       2|2018-06-04 11:18:01|             1|         0.8|      0.0|        5.3|       1|  2018|      6|        6|           4|          2|         11|           null|       null|                null|         null|null|\n|2018-06-02|          US|       2|2018-06-02 17:47:28|             1|        1.68|      0.0|       11.3|       1|  2018|      6|        6|           2|          7|         17|           null|       null|                null|         null|null|\n|2018-06-02|          US|       1|2018-06-02 17:24:06|             3|         6.9|     3.42|      26.22|       1|  2018|      6|        6|           2|          7|         17|           null|       null|                null|         null|null|\n+----------+------------+--------+-------------------+--------------+------------+---------+-----------+--------+------+-------+---------+------------+-----------+-----------+---------------+-----------+--------------------+-------------+----+\nonly showing top 5 rows"
          },
          "execution_count": 8,
          "metadata": {}
        }
      ],
      "metadata": {},
      "source": [
        "# enrich taxi data with holiday data\n",
        "nyc_taxi_holiday_df = nyc_tlc_df_clean.join(hol_df_clean, on = ['datetime', 'country_code'] , how = 'left')\n",
        "\n",
        "nyc_taxi_holiday_df.show(5)"
      ]
    },
    {
      "cell_type": "code",
      "execution_count": 9,
      "outputs": [
        {
          "output_type": "display_data",
          "data": {
            "application/vnd.livy.statement-meta+json": {
              "spark_pool": "small",
              "session_id": 12,
              "statement_id": 11,
              "state": "finished",
              "livy_statement_state": "available",
              "queued_time": "2021-02-23T05:48:45.3368527Z",
              "execution_start_time": "2021-02-23T05:50:07.6936356Z",
              "execution_finish_time": "2021-02-23T05:50:20.3313941Z"
            },
            "text/plain": "StatementMeta(small, 12, 11, Finished, Available)"
          },
          "metadata": {}
        },
        {
          "output_type": "execute_result",
          "data": {
            "text/plain": "+----------+------------+--------+-------------------+--------------+------------+---------+-----------+--------+------+-------+---------+------------+-----------+-----------+---------------+------------+--------------------+-------------+-------------------+\n|datetime  |country_code|vendorID|lpepPickupDatetime |passengerCount|tripDistance|tipAmount|totalAmount|tripType|puYear|puMonth|month_num|day_of_month|day_of_week|hour_of_day|countryOrRegion|holidayName |normalizeHolidayName|isPaidTimeOff|date               |\n+----------+------------+--------+-------------------+--------------+------------+---------+-----------+--------+------+-------+---------+------------+-----------+-----------+---------------+------------+--------------------+-------------+-------------------+\n|2018-05-28|US          |2       |2018-05-28 10:28:09|1             |2.01        |2.26     |13.56      |1       |2018  |5      |5        |28          |2          |10         |United States  |Memorial Day|Memorial Day        |true         |2018-05-28 00:00:00|\n|2018-05-28|US          |2       |2018-05-28 11:18:08|1             |1.23        |0.0      |7.3        |1       |2018  |5      |5        |28          |2          |11         |United States  |Memorial Day|Memorial Day        |true         |2018-05-28 00:00:00|\n|2018-05-28|US          |2       |2018-05-28 13:07:12|1             |71.23       |0.0      |181.8      |1       |2018  |5      |5        |28          |2          |13         |United States  |Memorial Day|Memorial Day        |true         |2018-05-28 00:00:00|\n|2018-05-28|US          |2       |2018-05-28 00:02:29|1             |0.87        |0.0      |6.8        |1       |2018  |5      |5        |28          |2          |0          |United States  |Memorial Day|Memorial Day        |true         |2018-05-28 00:00:00|\n|2018-05-28|US          |2       |2018-05-28 00:05:18|1             |6.54        |0.0      |24.3       |1       |2018  |5      |5        |28          |2          |0          |United States  |Memorial Day|Memorial Day        |true         |2018-05-28 00:00:00|\n+----------+------------+--------+-------------------+--------------+------------+---------+-----------+--------+------+-------+---------+------------+-----------+-----------+---------------+------------+--------------------+-------------+-------------------+\nonly showing top 5 rows"
          },
          "execution_count": 9,
          "metadata": {}
        }
      ],
      "metadata": {},
      "source": [
        "# Create a temp table and filter out non empty holiday rows\n",
        "\n",
        "nyc_taxi_holiday_df.createOrReplaceTempView(\"nyc_taxi_holiday_df\")\n",
        "spark.sql(\"SELECT * from nyc_taxi_holiday_df WHERE holidayName is NOT NULL \").show(5, truncate = False)"
      ]
    },
    {
      "cell_type": "markdown",
      "metadata": {},
      "source": [
        "## Enrich with weather data¶\n",
        "\n",
        "Now we append NOAA surface weather data to the taxi and holiday data. Use a similar approach to fetch the [NOAA weather history data](https://azure.microsoft.com/en-us/services/open-datasets/catalog/noaa-integrated-surface-data/) from Azure Open Datasets. "
      ]
    },
    {
      "cell_type": "code",
      "execution_count": 10,
      "outputs": [
        {
          "output_type": "display_data",
          "data": {
            "application/vnd.livy.statement-meta+json": {
              "spark_pool": "small",
              "session_id": 12,
              "statement_id": 12,
              "state": "finished",
              "livy_statement_state": "available",
              "queued_time": "2021-02-23T05:48:45.3579156Z",
              "execution_start_time": "2021-02-23T05:50:20.4014349Z",
              "execution_finish_time": "2021-02-23T05:50:24.4731928Z"
            },
            "text/plain": "StatementMeta(small, 12, 12, Finished, Available)"
          },
          "metadata": {}
        },
        {
          "output_type": "execute_result",
          "data": {
            "text/plain": ""
          },
          "execution_count": 10,
          "metadata": {}
        }
      ],
      "metadata": {},
      "source": [
        "from azureml.opendatasets import NoaaIsdWeather\n",
        "\n",
        "isd = NoaaIsdWeather(start_date, end_date)\n",
        "isd_df = isd.to_spark_dataframe()"
      ]
    },
    {
      "cell_type": "code",
      "execution_count": 11,
      "outputs": [
        {
          "output_type": "display_data",
          "data": {
            "application/vnd.livy.statement-meta+json": {
              "spark_pool": "small",
              "session_id": 12,
              "statement_id": 13,
              "state": "finished",
              "livy_statement_state": "available",
              "queued_time": "2021-02-23T05:48:45.3794507Z",
              "execution_start_time": "2021-02-23T05:50:24.5381736Z",
              "execution_finish_time": "2021-02-23T05:50:26.5790493Z"
            },
            "text/plain": "StatementMeta(small, 12, 13, Finished, Available)"
          },
          "metadata": {}
        },
        {
          "output_type": "execute_result",
          "data": {
            "text/plain": "+------+-----+-------------------+--------+---------+---------+---------+---------+-----------+--------------+-------------+-----------------------+--------------------+----------+-----------+---------+-------------------------+---------------+------------+----+---+-------+-----+\n|usaf  |wban |datetime           |latitude|longitude|elevation|windAngle|windSpeed|temperature|seaLvlPressure|cloudCoverage|presentWeatherIndicator|pastWeatherIndicator|precipTime|precipDepth|snowDepth|stationName              |countryOrRegion|p_k         |year|day|version|month|\n+------+-----+-------------------+--------+---------+---------+---------+---------+-----------+--------------+-------------+-----------------------+--------------------+----------+-----------+---------+-------------------------+---------------+------------+----+---+-------+-----+\n|720602|00194|2018-05-08 12:35:00|33.25   |-81.383  |75.0     |40       |4.1      |18.0       |null          |null         |null                   |null                |null      |null       |null     |BARNWELL REGIONAL AIRPORT|US             |720602-00194|2018|8  |1.0    |5    |\n|999999|94077|2018-05-04 20:00:00|42.425  |-103.736 |1343.0   |null     |3.6      |21.5       |null          |null         |null                   |null                |1.0       |0.0        |null     |HARRISON 20 SSE          |US             |999999-94077|2018|4  |1.0    |5    |\n|727506|04952|2018-05-04 02:15:00|43.913  |-95.109  |430.0    |300      |2.1      |12.0       |null          |null         |null                   |null                |null      |null       |null     |WINDOM MUNICIPAL AIRPORT |US             |727506-04952|2018|4  |1.0    |5    |\n|999999|03054|2018-05-11 15:45:00|33.956  |-102.774 |1141.0   |null     |null     |28.8       |null          |null         |null                   |null                |null      |null       |null     |MULESHOE 19 S            |US             |999999-03054|2018|11 |1.0    |5    |\n|039620|99999|2018-05-16 02:30:00|52.702  |-8.925   |14.0     |340      |3.6      |4.0        |null          |null         |null                   |null                |null      |null       |null     |SHANNON                  |EI             |039620-99999|2018|16 |1.0    |5    |\n+------+-----+-------------------+--------+---------+---------+---------+---------+-----------+--------------+-------------+-----------------------+--------------------+----------+-----------+---------+-------------------------+---------------+------------+----+---+-------+-----+\nonly showing top 5 rows"
          },
          "execution_count": 11,
          "metadata": {}
        }
      ],
      "metadata": {},
      "source": [
        "isd_df.show(5, truncate = False)"
      ]
    },
    {
      "cell_type": "code",
      "execution_count": 12,
      "outputs": [
        {
          "output_type": "display_data",
          "data": {
            "application/vnd.livy.statement-meta+json": {
              "spark_pool": "small",
              "session_id": 12,
              "statement_id": 14,
              "state": "finished",
              "livy_statement_state": "available",
              "queued_time": "2021-02-23T05:48:45.4008407Z",
              "execution_start_time": "2021-02-23T05:50:26.6502583Z",
              "execution_finish_time": "2021-02-23T05:50:28.6960888Z"
            },
            "text/plain": "StatementMeta(small, 12, 14, Finished, Available)"
          },
          "metadata": {}
        },
        {
          "output_type": "execute_result",
          "data": {
            "text/plain": ""
          },
          "execution_count": 12,
          "metadata": {}
        }
      ],
      "metadata": {},
      "source": [
        "# Filter out weather info for new york city, remove the recording with null temperature \n",
        "\n",
        "weather_df = isd_df.filter(isd_df.latitude >= '40.53')\\\n",
        "                        .filter(isd_df.latitude <= '40.88')\\\n",
        "                        .filter(isd_df.longitude >= '-74.09')\\\n",
        "                        .filter(isd_df.longitude <= '-73.72')\\\n",
        "                        .filter(isd_df.temperature.isNotNull())\\\n",
        "                        .withColumnRenamed('datetime','datetime_full')\n",
        "                         "
      ]
    },
    {
      "cell_type": "code",
      "execution_count": 13,
      "outputs": [
        {
          "output_type": "display_data",
          "data": {
            "application/vnd.livy.statement-meta+json": {
              "spark_pool": "small",
              "session_id": 12,
              "statement_id": 15,
              "state": "finished",
              "livy_statement_state": "available",
              "queued_time": "2021-02-23T05:48:45.4223642Z",
              "execution_start_time": "2021-02-23T05:50:28.7610906Z",
              "execution_finish_time": "2021-02-23T05:50:30.8018894Z"
            },
            "text/plain": "StatementMeta(small, 12, 15, Finished, Available)"
          },
          "metadata": {}
        },
        {
          "output_type": "execute_result",
          "data": {
            "text/plain": "+-------------------+---------+---------+---------+-----------+--------------+-------------+-----------------------+--------------------+----------+-----------+---------+------------------------------------+---------------+------------+----+---+-------+-----+----------+\n|datetime_full      |elevation|windAngle|windSpeed|temperature|seaLvlPressure|cloudCoverage|presentWeatherIndicator|pastWeatherIndicator|precipTime|precipDepth|snowDepth|stationName                         |countryOrRegion|p_k         |year|day|version|month|datetime  |\n+-------------------+---------+---------+---------+-----------+--------------+-------------+-----------------------+--------------------+----------+-----------+---------+------------------------------------+---------------+------------+----+---+-------+-----+----------+\n|2018-05-20 15:00:00|7.0      |230      |8.2      |23.9       |1014.3        |BKN          |null                   |null                |null      |null       |null     |JOHN F KENNEDY INTERNATIONAL AIRPORT|US             |744860-94789|2018|20 |1.0    |5    |2018-05-20|\n|2018-05-26 12:51:00|7.0      |220      |5.1      |23.9       |1010.6        |FEW          |null                   |null                |1.0       |0.0        |null     |JOHN F KENNEDY INTERNATIONAL AIRPORT|US             |744860-94789|2018|26 |1.0    |5    |2018-05-26|\n|2018-05-27 13:51:00|7.0      |80       |6.2      |17.2       |1015.9        |null         |63                     |null                |1.0       |53.0       |null     |JOHN F KENNEDY INTERNATIONAL AIRPORT|US             |744860-94789|2018|27 |1.0    |5    |2018-05-27|\n|2018-05-17 11:49:00|7.0      |100      |2.6      |14.0       |null          |null         |61                     |null                |null      |null       |null     |JOHN F KENNEDY INTERNATIONAL AIRPORT|US             |744860-94789|2018|17 |1.0    |5    |2018-05-17|\n|2018-05-04 18:51:00|7.0      |170      |6.2      |22.8       |1011.9        |null         |null                   |null                |1.0       |0.0        |null     |JOHN F KENNEDY INTERNATIONAL AIRPORT|US             |744860-94789|2018|4  |1.0    |5    |2018-05-04|\n+-------------------+---------+---------+---------+-----------+--------------+-------------+-----------------------+--------------------+----------+-----------+---------+------------------------------------+---------------+------------+----+---+-------+-----+----------+\nonly showing top 5 rows"
          },
          "execution_count": 13,
          "metadata": {}
        }
      ],
      "metadata": {},
      "source": [
        "# Remove unused columns\n",
        "\n",
        "columns_to_remove_weather = [\"usaf\", \"wban\", \"longitude\", \"latitude\"]\n",
        "weather_df_clean = weather_df.select([column for column in weather_df.columns if column not in columns_to_remove_weather])\\\n",
        "                        .withColumn('datetime',f.to_date('datetime_full'))\n",
        "\n",
        "weather_df_clean.show(5, truncate = False)"
      ]
    },
    {
      "cell_type": "markdown",
      "metadata": {},
      "source": [
        "Next group the weather data so that you have daily aggregated weather values. \n",
        ""
      ]
    },
    {
      "cell_type": "code",
      "execution_count": 14,
      "outputs": [
        {
          "output_type": "display_data",
          "data": {
            "application/vnd.livy.statement-meta+json": {
              "spark_pool": "small",
              "session_id": 12,
              "statement_id": 16,
              "state": "finished",
              "livy_statement_state": "available",
              "queued_time": "2021-02-23T05:48:45.4446331Z",
              "execution_start_time": "2021-02-23T05:50:30.8679318Z",
              "execution_finish_time": "2021-02-23T05:50:32.9121215Z"
            },
            "text/plain": "StatementMeta(small, 12, 16, Finished, Available)"
          },
          "metadata": {}
        },
        {
          "output_type": "execute_result",
          "data": {
            "text/plain": ""
          },
          "execution_count": 14,
          "metadata": {}
        }
      ],
      "metadata": {},
      "source": [
        "# Enrich weather data with aggregation statistics\n",
        "\n",
        "aggregations = {\"snowDepth\": \"mean\", \"precipTime\": \"max\", \"temperature\": \"mean\", \"precipDepth\": \"max\"}\n",
        "weather_df_grouped = weather_df_clean.groupby(\"datetime\").agg(aggregations)"
      ]
    },
    {
      "cell_type": "code",
      "execution_count": 15,
      "outputs": [
        {
          "output_type": "display_data",
          "data": {
            "application/vnd.livy.statement-meta+json": {
              "spark_pool": "small",
              "session_id": 12,
              "statement_id": 17,
              "state": "finished",
              "livy_statement_state": "available",
              "queued_time": "2021-02-23T05:48:45.4666665Z",
              "execution_start_time": "2021-02-23T05:50:32.9761309Z",
              "execution_finish_time": "2021-02-23T05:50:57.4502647Z"
            },
            "text/plain": "StatementMeta(small, 12, 17, Finished, Available)"
          },
          "metadata": {}
        },
        {
          "output_type": "execute_result",
          "data": {
            "text/plain": "+----------+--------------+------------------+---------------+----------------+\n|  datetime|avg(snowDepth)|  avg(temperature)|max(precipTime)|max(precipDepth)|\n+----------+--------------+------------------+---------------+----------------+\n|2018-05-28|          null| 15.33363636363636|           24.0|          2540.0|\n|2018-06-06|          null|              21.4|            6.0|             0.0|\n|2018-05-26|          null|26.072330097087377|           24.0|          2540.0|\n|2018-05-27|          null|18.931365313653142|           24.0|          7648.0|\n|2018-06-03|          null|18.242803030303037|           24.0|          2540.0|\n+----------+--------------+------------------+---------------+----------------+\nonly showing top 5 rows"
          },
          "execution_count": 15,
          "metadata": {}
        }
      ],
      "metadata": {},
      "source": [
        "weather_df_grouped.show(5)"
      ]
    },
    {
      "cell_type": "code",
      "execution_count": 16,
      "outputs": [
        {
          "output_type": "display_data",
          "data": {
            "application/vnd.livy.statement-meta+json": {
              "spark_pool": "small",
              "session_id": 12,
              "statement_id": 18,
              "state": "finished",
              "livy_statement_state": "available",
              "queued_time": "2021-02-23T05:48:45.4902267Z",
              "execution_start_time": "2021-02-23T05:50:57.5263235Z",
              "execution_finish_time": "2021-02-23T05:50:59.5705012Z"
            },
            "text/plain": "StatementMeta(small, 12, 18, Finished, Available)"
          },
          "metadata": {}
        },
        {
          "output_type": "execute_result",
          "data": {
            "text/plain": ""
          },
          "execution_count": 16,
          "metadata": {}
        }
      ],
      "metadata": {},
      "source": [
        "# Rename columns\n",
        "\n",
        "weather_df_grouped = weather_df_grouped.withColumnRenamed('avg(snowDepth)','avg_snowDepth')\\\n",
        "                                       .withColumnRenamed('avg(temperature)','avg_temperature')\\\n",
        "                                       .withColumnRenamed('max(precipTime)','max_precipTime')\\\n",
        "                                       .withColumnRenamed('max(precipDepth)','max_precipDepth')"
      ]
    },
    {
      "cell_type": "markdown",
      "metadata": {},
      "source": [
        "Merge the taxi and holiday data you prepared with the new weather data. This time you only need the datetime key, and again perform a left-join of the data. Run the describe() function on the new dataframe to see summary statistics for each field."
      ]
    },
    {
      "cell_type": "code",
      "execution_count": 17,
      "outputs": [
        {
          "output_type": "display_data",
          "data": {
            "application/vnd.livy.statement-meta+json": {
              "spark_pool": "small",
              "session_id": 12,
              "statement_id": 19,
              "state": "finished",
              "livy_statement_state": "available",
              "queued_time": "2021-02-23T05:48:45.5137849Z",
              "execution_start_time": "2021-02-23T05:50:59.6742328Z",
              "execution_finish_time": "2021-02-23T05:51:01.7148757Z"
            },
            "text/plain": "StatementMeta(small, 12, 19, Finished, Available)"
          },
          "metadata": {}
        },
        {
          "output_type": "execute_result",
          "data": {
            "text/plain": "DataFrame[datetime: date, country_code: string, vendorID: int, lpepPickupDatetime: timestamp, passengerCount: int, tripDistance: double, tipAmount: double, totalAmount: double, tripType: int, puYear: int, puMonth: int, month_num: int, day_of_month: int, day_of_week: int, hour_of_day: int, countryOrRegion: string, holidayName: string, normalizeHolidayName: string, isPaidTimeOff: boolean, date: timestamp, avg_snowDepth: double, avg_temperature: double, max_precipTime: double, max_precipDepth: double]"
          },
          "execution_count": 17,
          "metadata": {}
        }
      ],
      "metadata": {},
      "source": [
        "# enrich taxi data with weather\n",
        "nyc_taxi_holiday_weather_df = nyc_taxi_holiday_df.join(weather_df_grouped, on = 'datetime' , how = 'left')\n",
        "nyc_taxi_holiday_weather_df.cache()"
      ]
    },
    {
      "cell_type": "code",
      "execution_count": 18,
      "outputs": [
        {
          "output_type": "display_data",
          "data": {
            "application/vnd.livy.statement-meta+json": {
              "spark_pool": "small",
              "session_id": 12,
              "statement_id": 20,
              "state": "finished",
              "livy_statement_state": "available",
              "queued_time": "2021-02-23T05:48:45.6331208Z",
              "execution_start_time": "2021-02-23T05:51:01.779941Z",
              "execution_finish_time": "2021-02-23T05:51:30.2993209Z"
            },
            "text/plain": "StatementMeta(small, 12, 20, Finished, Available)"
          },
          "metadata": {}
        },
        {
          "output_type": "execute_result",
          "data": {
            "text/plain": "+----------+------------+--------+-------------------+--------------+------------+---------+-----------+--------+------+-------+---------+------------+-----------+-----------+---------------+------------+--------------------+-------------+-------------------+-------------+-----------------+--------------+---------------+\n|  datetime|country_code|vendorID| lpepPickupDatetime|passengerCount|tripDistance|tipAmount|totalAmount|tripType|puYear|puMonth|month_num|day_of_month|day_of_week|hour_of_day|countryOrRegion| holidayName|normalizeHolidayName|isPaidTimeOff|               date|avg_snowDepth|  avg_temperature|max_precipTime|max_precipDepth|\n+----------+------------+--------+-------------------+--------------+------------+---------+-----------+--------+------+-------+---------+------------+-----------+-----------+---------------+------------+--------------------+-------------+-------------------+-------------+-----------------+--------------+---------------+\n|2018-05-28|          US|       2|2018-05-28 11:18:08|             1|        1.23|      0.0|        7.3|       1|  2018|      5|        5|          28|          2|         11|  United States|Memorial Day|        Memorial Day|         true|2018-05-28 00:00:00|         null|15.33363636363636|          24.0|         2540.0|\n|2018-05-28|          US|       2|2018-05-28 13:07:12|             1|       71.23|      0.0|      181.8|       1|  2018|      5|        5|          28|          2|         13|  United States|Memorial Day|        Memorial Day|         true|2018-05-28 00:00:00|         null|15.33363636363636|          24.0|         2540.0|\n|2018-05-28|          US|       2|2018-05-28 00:02:29|             1|        0.87|      0.0|        6.8|       1|  2018|      5|        5|          28|          2|          0|  United States|Memorial Day|        Memorial Day|         true|2018-05-28 00:00:00|         null|15.33363636363636|          24.0|         2540.0|\n|2018-05-28|          US|       2|2018-05-28 00:05:18|             1|        6.54|      0.0|       24.3|       1|  2018|      5|        5|          28|          2|          0|  United States|Memorial Day|        Memorial Day|         true|2018-05-28 00:00:00|         null|15.33363636363636|          24.0|         2540.0|\n|2018-05-28|          US|       2|2018-05-28 00:01:06|             1|        2.68|     3.08|      15.38|       1|  2018|      5|        5|          28|          2|          0|  United States|Memorial Day|        Memorial Day|         true|2018-05-28 00:00:00|         null|15.33363636363636|          24.0|         2540.0|\n+----------+------------+--------+-------------------+--------------+------------+---------+-----------+--------+------+-------+---------+------------+-----------+-----------+---------------+------------+--------------------+-------------+-------------------+-------------+-----------------+--------------+---------------+\nonly showing top 5 rows"
          },
          "execution_count": 18,
          "metadata": {}
        }
      ],
      "metadata": {},
      "source": [
        "nyc_taxi_holiday_weather_df.show(5)"
      ]
    },
    {
      "cell_type": "code",
      "execution_count": 19,
      "outputs": [
        {
          "output_type": "display_data",
          "data": {
            "application/vnd.livy.statement-meta+json": {
              "spark_pool": "small",
              "session_id": 12,
              "statement_id": 21,
              "state": "finished",
              "livy_statement_state": "available",
              "queued_time": "2021-02-23T05:48:45.7069025Z",
              "execution_start_time": "2021-02-23T05:51:30.3646842Z",
              "execution_finish_time": "2021-02-23T05:51:50.7358635Z"
            },
            "text/plain": "StatementMeta(small, 12, 21, Finished, Available)"
          },
          "metadata": {}
        },
        {
          "output_type": "display_data",
          "data": {
            "application/vnd.synapse.widget-view+json": {
              "widget_id": "50b52121-74c2-4b97-933b-557c2cee5a3d",
              "widget_type": "Synapse.DataFrame"
            },
            "text/plain": "SynapseWidget(Synapse.DataFrame, 50b52121-74c2-4b97-933b-557c2cee5a3d)"
          },
          "metadata": {}
        },
        {
          "output_type": "execute_result",
          "data": {},
          "execution_count": 19,
          "metadata": {}
        }
      ],
      "metadata": {
        "collapsed": false
      },
      "source": [
        "# Run the describe() function on the new dataframe to see summary statistics for each field.\n",
        "\n",
        "display(nyc_taxi_holiday_weather_df.describe())"
      ]
    },
    {
      "cell_type": "markdown",
      "metadata": {},
      "source": [
        "The summary statistics shows that the totalAmount field has negative values, which don't make sense in the context.\n",
        "\n",
        ""
      ]
    },
    {
      "cell_type": "code",
      "execution_count": 20,
      "outputs": [
        {
          "output_type": "display_data",
          "data": {
            "application/vnd.livy.statement-meta+json": {
              "spark_pool": "small",
              "session_id": 12,
              "statement_id": 22,
              "state": "finished",
              "livy_statement_state": "available",
              "queued_time": "2021-02-23T05:48:45.8067727Z",
              "execution_start_time": "2021-02-23T05:51:50.8077277Z",
              "execution_finish_time": "2021-02-23T05:51:52.86986Z"
            },
            "text/plain": "StatementMeta(small, 12, 22, Finished, Available)"
          },
          "metadata": {}
        },
        {
          "output_type": "execute_result",
          "data": {
            "text/plain": ""
          },
          "execution_count": 20,
          "metadata": {}
        }
      ],
      "metadata": {},
      "source": [
        "# Remove invalid rows with less than 0 taxi fare or tip\n",
        "final_df = nyc_taxi_holiday_weather_df.filter(nyc_taxi_holiday_weather_df.tipAmount > 0)\\\n",
        "                                      .filter(nyc_taxi_holiday_weather_df.totalAmount > 0)"
      ]
    },
    {
      "cell_type": "markdown",
      "metadata": {},
      "source": [
        "## Cleaning up the existing Database\n",
        "\n",
        "First we need to drop the tables since Spark requires that a database is empty before we can drop the Database.\n",
        "\n",
        "Then we recreate the database and set the default database context to it."
      ]
    },
    {
      "cell_type": "code",
      "execution_count": 21,
      "outputs": [
        {
          "output_type": "display_data",
          "data": {
            "application/vnd.livy.statement-meta+json": {
              "spark_pool": "small",
              "session_id": 12,
              "statement_id": 23,
              "state": "finished",
              "livy_statement_state": "available",
              "queued_time": "2021-02-23T05:48:45.83774Z",
              "execution_start_time": "2021-02-23T05:51:52.9330867Z",
              "execution_finish_time": "2021-02-23T05:51:54.9794382Z"
            },
            "text/plain": "StatementMeta(small, 12, 23, Finished, Available)"
          },
          "metadata": {}
        },
        {
          "output_type": "execute_result",
          "data": {
            "text/plain": "DataFrame[]"
          },
          "execution_count": 21,
          "metadata": {}
        }
      ],
      "metadata": {},
      "source": [
        "spark.sql(\"DROP TABLE IF EXISTS NYCTaxi.nyc_taxi_holiday_weather\"); "
      ]
    },
    {
      "cell_type": "code",
      "execution_count": 22,
      "outputs": [
        {
          "output_type": "display_data",
          "data": {
            "application/vnd.livy.statement-meta+json": {
              "spark_pool": "small",
              "session_id": 12,
              "statement_id": 24,
              "state": "finished",
              "livy_statement_state": "available",
              "queued_time": "2021-02-23T05:48:45.8624206Z",
              "execution_start_time": "2021-02-23T05:51:55.0447932Z",
              "execution_finish_time": "2021-02-23T05:51:57.0813365Z"
            },
            "text/plain": "StatementMeta(small, 12, 24, Finished, Available)"
          },
          "metadata": {}
        },
        {
          "output_type": "execute_result",
          "data": {
            "text/plain": "DataFrame[]"
          },
          "execution_count": 22,
          "metadata": {}
        }
      ],
      "metadata": {},
      "source": [
        "spark.sql(\"DROP DATABASE IF EXISTS NYCTaxi\"); \n",
        "spark.sql(\"CREATE DATABASE NYCTaxi\"); \n",
        "spark.sql(\"USE NYCTaxi\");"
      ]
    },
    {
      "cell_type": "markdown",
      "metadata": {},
      "source": [
        "## Creating a new table\n",
        "We create a nyc_taxi_holiday_weather table from the nyc_taxi_holiday_weather dataframe.\n",
        ""
      ]
    },
    {
      "cell_type": "code",
      "execution_count": 23,
      "outputs": [
        {
          "output_type": "display_data",
          "data": {
            "application/vnd.livy.statement-meta+json": {
              "spark_pool": "small",
              "session_id": 12,
              "statement_id": 25,
              "state": "finished",
              "livy_statement_state": "available",
              "queued_time": "2021-02-23T05:48:45.8852344Z",
              "execution_start_time": "2021-02-23T05:51:57.1464101Z",
              "execution_finish_time": "2021-02-23T05:52:09.3539398Z"
            },
            "text/plain": "StatementMeta(small, 12, 25, Finished, Available)"
          },
          "metadata": {}
        },
        {
          "output_type": "execute_result",
          "data": {
            "text/plain": "+--------+\n|count(1)|\n+--------+\n|  337444|\n+--------+"
          },
          "execution_count": 23,
          "metadata": {}
        }
      ],
      "metadata": {},
      "source": [
        "from pyspark.sql import SparkSession\n",
        "from pyspark.sql.types import *\n",
        "\n",
        "final_df.write.saveAsTable(\"nyc_taxi_holiday_weather\");\n",
        "spark.sql(\"SELECT COUNT(*) FROM nyc_taxi_holiday_weather\").show();"
      ]
    }
  ]
}