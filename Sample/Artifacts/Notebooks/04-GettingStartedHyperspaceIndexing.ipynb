{
  "nbformat": 4,
  "nbformat_minor": 2,
  "metadata": {
    "kernelspec": {
      "name": "synapse_pyspark",
      "display_name": "Synapse PySpark"
    },
    "language_info": {
      "name": "python"
    },
    "save_output": true,
    "synapse_widget": {
      "version": "0.1",
      "state": {}
    }
  },
  "cells": [
    {
      "cell_type": "markdown",
      "metadata": {},
      "source": [
        "# Hitchhiker's Guide to Hyperspace (Python)\n",
        "## An Indexing Subsystem for Apache Spark™\n",
        "\n",
        "<img src=\"https://raw.githubusercontent.com/rapoth/hyperspace/master/docs/assets/images/hyperspace-small-banner.png\" alt=\"Hyperspace Indexing Sub-System Logo\" width=\"1000\"/>\n",
        "\n",
        "[Hyperspace](https://github.com/microsoft/hyperspace) introduces the ability for Apache Spark™ users to create indexes on their datasets (e.g., CSV, JSON, Parquet etc.) and leverage them for potential query and workload acceleration.\n",
        "\n",
        "In this notebook, we highlight the basics of Hyperspace, emphasizing on its simplicity and show how it can be used by just anyone.\n",
        "\n",
        "**Disclaimer**: Hyperspace helps accelerate your workloads/queries under two circumstances:\n",
        "\n",
        "  1. Queries contain filters on predicates with high selectivity (e.g., you want to select 100 matching rows from a million candidate rows)\n",
        "  2. Queries contain a join that requires heavy-shuffles (e.g., you want to join a 100 GB dataset with a 10 GB dataset)\n",
        "\n",
        "You may want to carefully monitor your workloads and determine whether indexing is helping you on a case-by-case basis."
      ]
    },
    {
      "cell_type": "markdown",
      "metadata": {},
      "source": [
        "## Setup\n",
        "To begin with, let's start a new Spark™ session. Since this notebook is a tutorial merely to illustrate what Hyperspace can offer, we will make a configuration change that allow us to highlight what Hyperspace is doing on small datasets. By default, Spark™ uses *broadcast join* to optimize join queries when the data size for one side of join is small (which is the case for the sample data we use in this tutorial). Therefore, we disable broadcast joins so that later when we run join queries, Spark™ uses *sort-merge* join. This is mainly to show how Hyperspace indexes would be used at scale for accelerating join queries.\n",
        "\n",
        "The output of running the cell below shows a reference to the successfully created Spark™ session and prints out '-1' as the value for the modified join config which indicates that broadcast join is successfully disabled."
      ]
    },
    {
      "cell_type": "code",
      "execution_count": 1,
      "outputs": [
        {
          "output_type": "display_data",
          "data": {
            "application/vnd.livy.statement-meta+json": {
              "spark_pool": "small",
              "session_id": 9,
              "statement_id": 3,
              "state": "finished",
              "livy_statement_state": "available",
              "queued_time": "2021-02-23T05:35:47.9034814Z",
              "execution_start_time": "2021-02-23T05:36:32.924868Z",
              "execution_finish_time": "2021-02-23T05:36:34.962732Z"
            },
            "text/plain": "StatementMeta(small, 9, 3, Finished, Available)"
          },
          "metadata": {}
        },
        {
          "output_type": "execute_result",
          "data": {
            "text/plain": ""
          },
          "execution_count": 1,
          "metadata": {}
        }
      ],
      "metadata": {},
      "source": [
        "import random\n",
        "\n",
        "session_id = random.randint(0,1000000)\n",
        "data_path = \"/hyperspace/data-{0}\".format(session_id)\n",
        "index_location = \"/hyperspace/indexes-{0}\".format(session_id)\n",
        "\n",
        "# Please note that you DO NOT need to change this configuration in production.\n",
        "# We store all indexes in the system folder within Synapse.\n",
        "spark.conf.set(\"spark.hyperspace.system.path\", index_location)"
      ]
    },
    {
      "cell_type": "code",
      "execution_count": 2,
      "outputs": [
        {
          "output_type": "display_data",
          "data": {
            "application/vnd.livy.statement-meta+json": {
              "spark_pool": "small",
              "session_id": 9,
              "statement_id": 4,
              "state": "finished",
              "livy_statement_state": "available",
              "queued_time": "2021-02-23T05:35:47.9408493Z",
              "execution_start_time": "2021-02-23T05:36:35.0360146Z",
              "execution_finish_time": "2021-02-23T05:36:37.0751194Z"
            },
            "text/plain": "StatementMeta(small, 9, 4, Finished, Available)"
          },
          "metadata": {}
        },
        {
          "output_type": "execute_result",
          "data": {
            "text/plain": "-1"
          },
          "execution_count": 2,
          "metadata": {}
        }
      ],
      "metadata": {},
      "source": [
        "# Start your Spark session\n",
        "spark\n",
        "\n",
        "# Disable BroadcastHashJoin, so Spark will use standard SortMergeJoin. Currently Hyperspace indexes utilize SortMergeJoin to speed up query.\n",
        "spark.conf.set(\"spark.sql.autoBroadcastJoinThreshold\", -1)\n",
        "\n",
        "# Verify that BroadcastHashJoin is set correctly \n",
        "print(spark.conf.get(\"spark.sql.autoBroadcastJoinThreshold\"))\n",
        "spark.conf.set(\"spark.hyperspace.explain.displayMode\", \"html\")"
      ]
    },
    {
      "cell_type": "markdown",
      "metadata": {},
      "source": [
        "## Data Preparation\n",
        "\n",
        "To prepare our environment, we will create sample data records and save them as parquet data files. While we use Parquet for illustration, you can use other formats such as CSV. In the subsequent cells, we will also demonstrate how you can create several Hyperspace indexes on this sample dataset and how one can make Spark™ use them when running queries. \n",
        "\n",
        "Our example records correspond to two datasets: *department* and *employee*. You should configure \"empLocation\" and \"deptLocation\" paths so that on the storage account they point to your desired location to save generated data files. \n",
        "\n",
        "The output of running below cell shows contents of our datasets as lists of triplets followed by references to dataFrames created to save the content of each dataset in our preferred location."
      ]
    },
    {
      "cell_type": "code",
      "execution_count": 3,
      "outputs": [
        {
          "output_type": "display_data",
          "data": {
            "application/vnd.livy.statement-meta+json": {
              "spark_pool": "small",
              "session_id": 9,
              "statement_id": 5,
              "state": "finished",
              "livy_statement_state": "available",
              "queued_time": "2021-02-23T05:35:47.9775459Z",
              "execution_start_time": "2021-02-23T05:36:37.1476507Z",
              "execution_finish_time": "2021-02-23T05:36:51.3917173Z"
            },
            "text/plain": "StatementMeta(small, 9, 5, Finished, Available)"
          },
          "metadata": {}
        },
        {
          "output_type": "execute_result",
          "data": {
            "text/plain": ""
          },
          "execution_count": 3,
          "metadata": {}
        }
      ],
      "metadata": {},
      "source": [
        "from pyspark.sql.types import StructField, StructType, StringType, IntegerType\n",
        "\n",
        "# Sample department records\n",
        "departments = [(10, \"Accounting\", \"New York\"), (20, \"Research\", \"Dallas\"), (30, \"Sales\", \"Chicago\"), (40, \"Operations\", \"Boston\")]\n",
        "\n",
        "# Sample employee records\n",
        "employees = [(7369, \"SMITH\", 20), (7499, \"ALLEN\", 30), (7521, \"WARD\", 30), (7566, \"JONES\", 20), (7698, \"BLAKE\", 30)]\n",
        "\n",
        "# Create a schema for the dataframe\n",
        "dept_schema = StructType([StructField('deptId', IntegerType(), True), StructField('deptName', StringType(), True), StructField('location', StringType(), True)])\n",
        "emp_schema = StructType([StructField('empId', IntegerType(), True), StructField('empName', StringType(), True), StructField('deptId', IntegerType(), True)])\n",
        "\n",
        "departments_df = spark.createDataFrame(departments, dept_schema)\n",
        "employees_df = spark.createDataFrame(employees, emp_schema)\n",
        "\n",
        "emp_Location = data_path + \"/employees.parquet\"\n",
        "dept_Location = data_path + \"/departments.parquet\"\n",
        "\n",
        "employees_df.write.mode(\"overwrite\").parquet(emp_Location)\n",
        "departments_df.write.mode(\"overwrite\").parquet(dept_Location)"
      ]
    },
    {
      "cell_type": "markdown",
      "metadata": {},
      "source": [
        "Let's verify the contents of parquet files we created above to make sure they contain expected records in correct format. We later use these data files to create Hyperspace indexes and run sample queries.\n",
        "\n",
        "Running below cell, the output displays the rows in employee and department dataframes in a tabular form. There should be 14 employees and 4 departments, each matching with one of triplets we created in the previous cell."
      ]
    },
    {
      "cell_type": "code",
      "execution_count": 4,
      "outputs": [
        {
          "output_type": "display_data",
          "data": {
            "application/vnd.livy.statement-meta+json": {
              "spark_pool": "small",
              "session_id": 9,
              "statement_id": 6,
              "state": "finished",
              "livy_statement_state": "available",
              "queued_time": "2021-02-23T05:35:48.0074102Z",
              "execution_start_time": "2021-02-23T05:36:51.4617762Z",
              "execution_finish_time": "2021-02-23T05:36:55.5395642Z"
            },
            "text/plain": "StatementMeta(small, 9, 6, Finished, Available)"
          },
          "metadata": {}
        },
        {
          "output_type": "execute_result",
          "data": {
            "text/plain": "+-----+-------+------+\n|empId|empName|deptId|\n+-----+-------+------+\n| 7369|  SMITH|    20|\n| 7499|  ALLEN|    30|\n| 7566|  JONES|    20|\n| 7698|  BLAKE|    30|\n| 7521|   WARD|    30|\n+-----+-------+------+\n\n+------+----------+--------+\n|deptId|  deptName|location|\n+------+----------+--------+\n|    10|Accounting|New York|\n|    40|Operations|  Boston|\n|    20|  Research|  Dallas|\n|    30|     Sales| Chicago|\n+------+----------+--------+"
          },
          "execution_count": 4,
          "metadata": {}
        }
      ],
      "metadata": {},
      "source": [
        "# emp_Location and dept_Location are the user defined locations above to save parquet files\n",
        "emp_DF = spark.read.parquet(emp_Location)\n",
        "dept_DF = spark.read.parquet(dept_Location)\n",
        "\n",
        "# Verify the data is available and correct\n",
        "emp_DF.show()\n",
        "dept_DF.show()"
      ]
    },
    {
      "cell_type": "markdown",
      "metadata": {},
      "source": [
        "## Hello Hyperspace Index!\n",
        "Hyperspace lets users create indexes on records scanned from persisted data files. Once successfully created, an entry corresponding to the index is added to the Hyperspace's metadata. This metadata is later used by Apache Spark™'s Hyperspace-enabled optimizer during query processing to find and use proper indexes. \n",
        "\n",
        "Once indexes are created, users can perform several actions:\n",
        "  - **Refresh** If the underlying data changes, users can refresh an existing index to capture that. \n",
        "  - **Delete** If the index is not needed, users can perform a soft-delete i.e., index is not physically deleted but is marked as 'deleted' so it is no longer used in your workloads.\n",
        "  - **Vacuum** If an index is no longer required, users can vacuum it which forces a physical deletion of the index contents and associated metadata completely from Hyperspace's metadata.\n",
        "\n",
        "Below sections show how such index management operations can be done in Hyperspace.\n",
        "\n",
        "First, we need to import the required libraries and create an instance of Hyperspace. We later use this instance to invoke different Hyperspace APIs to create indexes on our sample data and modify those indexes.\n",
        "\n",
        "Output of running below cell shows a reference to the created instance of Hyperspace."
      ]
    },
    {
      "cell_type": "code",
      "execution_count": 5,
      "outputs": [
        {
          "output_type": "display_data",
          "data": {
            "application/vnd.livy.statement-meta+json": {
              "spark_pool": "small",
              "session_id": 9,
              "statement_id": 7,
              "state": "finished",
              "livy_statement_state": "available",
              "queued_time": "2021-02-23T05:35:48.0356842Z",
              "execution_start_time": "2021-02-23T05:36:55.6194032Z",
              "execution_finish_time": "2021-02-23T05:36:57.644281Z"
            },
            "text/plain": "StatementMeta(small, 9, 7, Finished, Available)"
          },
          "metadata": {}
        },
        {
          "output_type": "execute_result",
          "data": {
            "text/plain": ""
          },
          "execution_count": 5,
          "metadata": {}
        }
      ],
      "metadata": {},
      "source": [
        "from hyperspace import *\n",
        "\n",
        "# Create an instance of Hyperspace\n",
        "hyperspace = Hyperspace(spark)"
      ]
    },
    {
      "cell_type": "markdown",
      "metadata": {},
      "source": [
        "### Create Indexes\n",
        "To create a Hyperspace index, the user needs to provide 2 pieces of information:\n",
        "* An Apache Spark™ DataFrame which references the data to be indexed.\n",
        "* An index configuration object: IndexConfig, which specifies the *index name*, *indexed* and *included* columns of the index. \n",
        "\n",
        "As you might have noticed, in this notebook, we illustrate indexing using the [Covering Index](https://www.red-gate.com/simple-talk/sql/learn-sql-server/using-covering-indexes-to-improve-query-performance/), which are the default index in Hyperspace. In the future, we plan on adding support for other index types. \n",
        "\n",
        "We start by creating three Hyperspace indexes on our sample data: two indexes on the department dataset named \"deptIndex1\" and \"deptIndex2\", and one index on the employee dataset named 'empIndex'. \n",
        "For each index, we need a corresponding IndexConfig to capture the name along with columns lists for the indexed and included columns. Running below cell creates these indexConfigs and its output lists them.\n",
        "\n",
        "**Note**: An *index column* is a column that appears in your filters or join conditions. An *included column* is a column that appears in your select/project.\n",
        "\n",
        "For instance, in the following query:\n",
        "```sql\n",
        "SELECT X\n",
        "FROM Table\n",
        "WHERE Y = 2\n",
        "```\n",
        "X can be an *index column* and Y can be an *included column*."
      ]
    },
    {
      "cell_type": "code",
      "execution_count": 6,
      "outputs": [
        {
          "output_type": "display_data",
          "data": {
            "application/vnd.livy.statement-meta+json": {
              "spark_pool": "small",
              "session_id": 9,
              "statement_id": 8,
              "state": "finished",
              "livy_statement_state": "available",
              "queued_time": "2021-02-23T05:35:48.0624168Z",
              "execution_start_time": "2021-02-23T05:36:57.7142783Z",
              "execution_finish_time": "2021-02-23T05:36:59.7559977Z"
            },
            "text/plain": "StatementMeta(small, 9, 8, Finished, Available)"
          },
          "metadata": {}
        },
        {
          "output_type": "execute_result",
          "data": {
            "text/plain": ""
          },
          "execution_count": 6,
          "metadata": {}
        }
      ],
      "metadata": {},
      "source": [
        "# Create index configurations\n",
        "\n",
        "emp_IndexConfig = IndexConfig(\"empIndex1\", [\"deptId\"], [\"empName\"])\n",
        "dept_IndexConfig1 = IndexConfig(\"deptIndex1\", [\"deptId\"], [\"deptName\"])\n",
        "dept_IndexConfig2 = IndexConfig(\"deptIndex2\", [\"location\"], [\"deptName\"])"
      ]
    },
    {
      "cell_type": "markdown",
      "metadata": {},
      "source": [
        "Now, we create three indexes using our index configurations. For this purpose, we invoke \"createIndex\" command on our Hyperspace instance. This command requires an index configuration and the dataFrame containing rows to be indexed.\n",
        "Running below cell creates three indexes.\n",
        ""
      ]
    },
    {
      "cell_type": "code",
      "execution_count": 7,
      "outputs": [
        {
          "output_type": "display_data",
          "data": {
            "application/vnd.livy.statement-meta+json": {
              "spark_pool": "small",
              "session_id": 9,
              "statement_id": 9,
              "state": "finished",
              "livy_statement_state": "available",
              "queued_time": "2021-02-23T05:35:48.0930521Z",
              "execution_start_time": "2021-02-23T05:36:59.8230511Z",
              "execution_finish_time": "2021-02-23T05:37:14.0392992Z"
            },
            "text/plain": "StatementMeta(small, 9, 9, Finished, Available)"
          },
          "metadata": {}
        },
        {
          "output_type": "execute_result",
          "data": {
            "text/plain": ""
          },
          "execution_count": 7,
          "metadata": {}
        }
      ],
      "metadata": {},
      "source": [
        "# Create indexes from configurations\n",
        "\n",
        "hyperspace.createIndex(emp_DF, emp_IndexConfig)\n",
        "hyperspace.createIndex(dept_DF, dept_IndexConfig1)\n",
        "hyperspace.createIndex(dept_DF, dept_IndexConfig2)"
      ]
    },
    {
      "cell_type": "markdown",
      "metadata": {},
      "source": [
        "### List Indexes\n",
        "\n",
        "Below code shows how a user can list all available indexes in a Hyperspace instance. It uses the `indexes` API which returns information about existing indexes as a Spark™'s DataFrame so you can perform additional operations. For instance, you can invoke valid operations on this DataFrame for checking its content or analyzing it further (for example filtering specific indexes or grouping them according to some desired property). \n",
        "\n",
        "Below cell uses DataFrame's `show` action to fully print the rows and show details of our indexes in a tabular form. For each index, we can see all the information Hyperspace has stored about it in its metadata. \n",
        "\n",
        "You will immediately notice the following:\n",
        "  - `config.indexName`, `config.indexedColumns`, `config.includedColumns` are the fields that a user normally provides during index creation.\n",
        "  - `status.status` indicates if the index is being actively used by the Spark's optimizer.\n",
        "  - `dfSignature` is automatically generated by Hyperspace and is unique for each index. Hyperspace uses this signature internally to maintain the index and exploit it at query time. \n",
        "  \n",
        "In the output below, all three indexes should have \"ACTIVE\" as status and their name, indexed columns, and included columns should match with what we defined in index configurations above."
      ]
    },
    {
      "cell_type": "code",
      "execution_count": 8,
      "outputs": [
        {
          "output_type": "display_data",
          "data": {
            "application/vnd.livy.statement-meta+json": {
              "spark_pool": "small",
              "session_id": 9,
              "statement_id": 10,
              "state": "finished",
              "livy_statement_state": "available",
              "queued_time": "2021-02-23T05:35:48.1205862Z",
              "execution_start_time": "2021-02-23T05:37:14.1036979Z",
              "execution_finish_time": "2021-02-23T05:37:16.1303638Z"
            },
            "text/plain": "StatementMeta(small, 9, 10, Finished, Available)"
          },
          "metadata": {}
        },
        {
          "output_type": "execute_result",
          "data": {
            "text/plain": "+----------+--------------+---------------+----------+--------------------+--------------------+------+\n|      name|indexedColumns|includedColumns|numBuckets|              schema|       indexLocation| state|\n+----------+--------------+---------------+----------+--------------------+--------------------+------+\n|deptIndex1|      [deptId]|     [deptName]|       200|{\"type\":\"struct\",...|abfss://zhaotest@...|ACTIVE|\n|deptIndex2|    [location]|     [deptName]|       200|{\"type\":\"struct\",...|abfss://zhaotest@...|ACTIVE|\n| empIndex1|      [deptId]|      [empName]|       200|{\"type\":\"struct\",...|abfss://zhaotest@...|ACTIVE|\n+----------+--------------+---------------+----------+--------------------+--------------------+------+"
          },
          "execution_count": 8,
          "metadata": {}
        }
      ],
      "metadata": {},
      "source": [
        "hyperspace.indexes().show()"
      ]
    },
    {
      "cell_type": "markdown",
      "metadata": {},
      "source": [
        "### Delete Indexes\n",
        "A user can drop an existing index by using the `deleteIndex` API and providing the index name. \n",
        "\n",
        "Index deletion is a **soft-delete** operation i.e., only the index's status in the Hyperspace metadata from is changed from \"ACTIVE\" to \"DELETED\". This will exclude the deleted index from any future query optimization and Hyperspace no longer picks that index for any query. However, index files for a deleted index still remain available (since it is a soft-delete), so if you accidentally deleted the index, you could still restore it.\n",
        "\n",
        "The cell below deletes index with name \"deptIndex2\" and lists Hyperspace metadata after that. The output should be similar to above cell for \"List Indexes\" except for \"deptIndex2\" which now should have its status changed into \"DELETED\"."
      ]
    },
    {
      "cell_type": "code",
      "execution_count": 9,
      "outputs": [
        {
          "output_type": "display_data",
          "data": {
            "application/vnd.livy.statement-meta+json": {
              "spark_pool": "small",
              "session_id": 9,
              "statement_id": 11,
              "state": "finished",
              "livy_statement_state": "available",
              "queued_time": "2021-02-23T05:35:48.1508316Z",
              "execution_start_time": "2021-02-23T05:37:16.1951913Z",
              "execution_finish_time": "2021-02-23T05:37:18.2280978Z"
            },
            "text/plain": "StatementMeta(small, 9, 11, Finished, Available)"
          },
          "metadata": {}
        },
        {
          "output_type": "execute_result",
          "data": {
            "text/plain": "+----------+--------------+---------------+----------+--------------------+--------------------+-------+\n|      name|indexedColumns|includedColumns|numBuckets|              schema|       indexLocation|  state|\n+----------+--------------+---------------+----------+--------------------+--------------------+-------+\n|deptIndex1|      [deptId]|     [deptName]|       200|{\"type\":\"struct\",...|abfss://zhaotest@...| ACTIVE|\n|deptIndex2|    [location]|     [deptName]|       200|{\"type\":\"struct\",...|abfss://zhaotest@...|DELETED|\n| empIndex1|      [deptId]|      [empName]|       200|{\"type\":\"struct\",...|abfss://zhaotest@...| ACTIVE|\n+----------+--------------+---------------+----------+--------------------+--------------------+-------+"
          },
          "execution_count": 9,
          "metadata": {}
        }
      ],
      "metadata": {},
      "source": [
        "hyperspace.deleteIndex(\"deptIndex2\")\n",
        "\n",
        "hyperspace.indexes().show()"
      ]
    },
    {
      "cell_type": "markdown",
      "metadata": {},
      "source": [
        "### Restore Indexes\n",
        "A user can use the `restoreIndex` API to restore a deleted index. This will bring back the latest version of index into ACTIVE status and makes it usable again for queries. \n",
        "\n",
        "The cell below shows an example of `restoreIndex` API. We delete \"deptIndex1\" and restore it. The output shows \"deptIndex1\" first went into the \"DELETED\" status after invoking \"deleteIndex\" command and came back to the \"ACTIVE\" status after calling \"restoreIndex\"."
      ]
    },
    {
      "cell_type": "code",
      "execution_count": 10,
      "outputs": [
        {
          "output_type": "display_data",
          "data": {
            "application/vnd.livy.statement-meta+json": {
              "spark_pool": "small",
              "session_id": 9,
              "statement_id": 12,
              "state": "finished",
              "livy_statement_state": "available",
              "queued_time": "2021-02-23T05:35:48.1782561Z",
              "execution_start_time": "2021-02-23T05:37:18.2968298Z",
              "execution_finish_time": "2021-02-23T05:37:22.3738094Z"
            },
            "text/plain": "StatementMeta(small, 9, 12, Finished, Available)"
          },
          "metadata": {}
        },
        {
          "output_type": "execute_result",
          "data": {
            "text/plain": "+----------+--------------+---------------+----------+--------------------+--------------------+-------+\n|      name|indexedColumns|includedColumns|numBuckets|              schema|       indexLocation|  state|\n+----------+--------------+---------------+----------+--------------------+--------------------+-------+\n|deptIndex1|      [deptId]|     [deptName]|       200|{\"type\":\"struct\",...|abfss://zhaotest@...|DELETED|\n|deptIndex2|    [location]|     [deptName]|       200|{\"type\":\"struct\",...|abfss://zhaotest@...|DELETED|\n| empIndex1|      [deptId]|      [empName]|       200|{\"type\":\"struct\",...|abfss://zhaotest@...| ACTIVE|\n+----------+--------------+---------------+----------+--------------------+--------------------+-------+\n\n+----------+--------------+---------------+----------+--------------------+--------------------+-------+\n|      name|indexedColumns|includedColumns|numBuckets|              schema|       indexLocation|  state|\n+----------+--------------+---------------+----------+--------------------+--------------------+-------+\n|deptIndex1|      [deptId]|     [deptName]|       200|{\"type\":\"struct\",...|abfss://zhaotest@...| ACTIVE|\n|deptIndex2|    [location]|     [deptName]|       200|{\"type\":\"struct\",...|abfss://zhaotest@...|DELETED|\n| empIndex1|      [deptId]|      [empName]|       200|{\"type\":\"struct\",...|abfss://zhaotest@...| ACTIVE|\n+----------+--------------+---------------+----------+--------------------+--------------------+-------+"
          },
          "execution_count": 10,
          "metadata": {}
        }
      ],
      "metadata": {},
      "source": [
        "hyperspace.deleteIndex(\"deptIndex1\")\n",
        "\n",
        "hyperspace.indexes().show()\n",
        "\n",
        "hyperspace.restoreIndex(\"deptIndex1\")\n",
        "\n",
        "hyperspace.indexes().show()"
      ]
    },
    {
      "cell_type": "markdown",
      "metadata": {},
      "source": [
        "### Vacuum Indexes\n",
        "The user can perform a **hard-delete** i.e., fully remove files and the metadata entry for a deleted index using the `vacuumIndex` API. Once done, this action is **irreversible** as it physically deletes all the index files associated with the index.\n",
        "\n",
        "The cell below vacuums the \"deptIndex2\" index and shows Hyperspace metadata after vaccuming. You should see metadata entries for two indexes \"deptIndex1\" and \"empIndex\" both with \"ACTIVE\" status and no entry for \"deptIndex2\"."
      ]
    },
    {
      "cell_type": "code",
      "execution_count": 11,
      "outputs": [
        {
          "output_type": "display_data",
          "data": {
            "application/vnd.livy.statement-meta+json": {
              "spark_pool": "small",
              "session_id": 9,
              "statement_id": 13,
              "state": "finished",
              "livy_statement_state": "available",
              "queued_time": "2021-02-23T05:35:48.207128Z",
              "execution_start_time": "2021-02-23T05:37:22.4417779Z",
              "execution_finish_time": "2021-02-23T05:37:24.4754828Z"
            },
            "text/plain": "StatementMeta(small, 9, 13, Finished, Available)"
          },
          "metadata": {}
        },
        {
          "output_type": "execute_result",
          "data": {
            "text/plain": "+----------+--------------+---------------+----------+--------------------+--------------------+------+\n|      name|indexedColumns|includedColumns|numBuckets|              schema|       indexLocation| state|\n+----------+--------------+---------------+----------+--------------------+--------------------+------+\n|deptIndex1|      [deptId]|     [deptName]|       200|{\"type\":\"struct\",...|abfss://zhaotest@...|ACTIVE|\n| empIndex1|      [deptId]|      [empName]|       200|{\"type\":\"struct\",...|abfss://zhaotest@...|ACTIVE|\n+----------+--------------+---------------+----------+--------------------+--------------------+------+"
          },
          "execution_count": 11,
          "metadata": {}
        }
      ],
      "metadata": {},
      "source": [
        "hyperspace.vacuumIndex(\"deptIndex2\")\n",
        "hyperspace.indexes().show()"
      ]
    },
    {
      "cell_type": "markdown",
      "metadata": {},
      "source": [
        "## Enable/Disable Hyperspace\n",
        "\n",
        "Hyperspace provides APIs to enable or disable index usage with Spark™.\n",
        "\n",
        "  - By using `enableHyperspace` API, Hyperspace optimization rules become visible to the Apache Spark™ optimizer and it will exploit existing Hyperspace indexes to optimize user queries.\n",
        "  - By using `disableHyperspace` command, Hyperspace rules no longer apply during query optimization. You should note that disabling Hyperspace has no impact on created indexes as they remain intact.\n",
        "\n",
        "Below cell shows how you can use these commands to enable or disable hyperspace. The output simply shows a reference to the existing Spark™ session whose configuration is updated."
      ]
    },
    {
      "cell_type": "code",
      "execution_count": 12,
      "outputs": [
        {
          "output_type": "display_data",
          "data": {
            "application/vnd.livy.statement-meta+json": {
              "spark_pool": "small",
              "session_id": 9,
              "statement_id": 14,
              "state": "finished",
              "livy_statement_state": "available",
              "queued_time": "2021-02-23T05:35:48.2353012Z",
              "execution_start_time": "2021-02-23T05:37:24.5427739Z",
              "execution_finish_time": "2021-02-23T05:37:26.5918251Z"
            },
            "text/plain": "StatementMeta(small, 9, 14, Finished, Available)"
          },
          "metadata": {}
        },
        {
          "output_type": "execute_result",
          "data": {
            "text/plain": "<pyspark.sql.session.SparkSession object at 0x7f1fd624f550>"
          },
          "execution_count": 12,
          "metadata": {}
        }
      ],
      "metadata": {},
      "source": [
        "# Enable Hyperspace\n",
        "Hyperspace.enable(spark)\n",
        "\n",
        "# Disable Hyperspace\n",
        "Hyperspace.disable(spark)"
      ]
    },
    {
      "cell_type": "markdown",
      "metadata": {},
      "source": [
        "## Index Usage\n",
        "In order to make Spark use Hyperspace indexes during query processing, the user needs to make sure that Hyperspace is enabled. \n",
        "\n",
        "The cell below enables Hyperspace and creates two DataFrames containing our sample data records which we use for running example queries. For each DataFrame, a few sample rows are printed."
      ]
    },
    {
      "cell_type": "code",
      "execution_count": 13,
      "outputs": [
        {
          "output_type": "display_data",
          "data": {
            "application/vnd.livy.statement-meta+json": {
              "spark_pool": "small",
              "session_id": 9,
              "statement_id": 15,
              "state": "finished",
              "livy_statement_state": "available",
              "queued_time": "2021-02-23T05:35:48.2631831Z",
              "execution_start_time": "2021-02-23T05:37:26.6567576Z",
              "execution_finish_time": "2021-02-23T05:37:28.6942928Z"
            },
            "text/plain": "StatementMeta(small, 9, 15, Finished, Available)"
          },
          "metadata": {}
        },
        {
          "output_type": "execute_result",
          "data": {
            "text/plain": "+-----+-------+------+\n|empId|empName|deptId|\n+-----+-------+------+\n| 7369|  SMITH|    20|\n| 7499|  ALLEN|    30|\n| 7566|  JONES|    20|\n| 7698|  BLAKE|    30|\n| 7521|   WARD|    30|\n+-----+-------+------+\n\n+------+----------+--------+\n|deptId|  deptName|location|\n+------+----------+--------+\n|    10|Accounting|New York|\n|    40|Operations|  Boston|\n|    20|  Research|  Dallas|\n|    30|     Sales| Chicago|\n+------+----------+--------+"
          },
          "execution_count": 13,
          "metadata": {}
        }
      ],
      "metadata": {},
      "source": [
        "# Enable Hyperspace\n",
        "Hyperspace.enable(spark)\n",
        "\n",
        "emp_DF = spark.read.parquet(emp_Location)\n",
        "dept_DF = spark.read.parquet(dept_Location)\n",
        "\n",
        "emp_DF.show(5)\n",
        "dept_DF.show(5)"
      ]
    },
    {
      "cell_type": "markdown",
      "metadata": {},
      "source": [
        "# Hyperspace's Index Types\n",
        "\n",
        "Currently, Hyperspace can exploit indexes for two groups of queries: \n",
        "* Selection queries with lookup or range selection filtering predicates.\n",
        "* Join queries with an equality join predicate (i.e. Equi-joins)."
      ]
    },
    {
      "cell_type": "markdown",
      "metadata": {},
      "source": [
        "## Indexes for Accelerating Filters\n",
        "\n",
        "Our first example query does a lookup on department records (see below cell). In SQL, this query looks as follows:\n",
        "\n",
        "```sql\n",
        "SELECT deptName \n",
        "FROM departments\n",
        "WHERE deptId = 20\n",
        "```\n",
        "\n",
        "The output of running the cell below shows: \n",
        "- query result, which is a single department name.\n",
        "- query plan that Spark™ used to run the query. \n",
        "\n",
        "In the query plan, the \"FileScan\" operator at the bottom of the plan shows the datasource where the records were read from. The location of this file indicates the path to the latest version of the \"deptIndex1\" index. This shows  that according to the query and using Hyperspace optimization rules, Spark™ decided to exploit the proper index at runtime.\n",
        ""
      ]
    },
    {
      "cell_type": "code",
      "execution_count": 14,
      "outputs": [
        {
          "output_type": "display_data",
          "data": {
            "application/vnd.livy.statement-meta+json": {
              "spark_pool": "small",
              "session_id": 9,
              "statement_id": 16,
              "state": "finished",
              "livy_statement_state": "available",
              "queued_time": "2021-02-23T05:35:48.2912775Z",
              "execution_start_time": "2021-02-23T05:37:28.7605541Z",
              "execution_finish_time": "2021-02-23T05:37:30.8090241Z"
            },
            "text/plain": "StatementMeta(small, 9, 16, Finished, Available)"
          },
          "metadata": {}
        },
        {
          "output_type": "display_data",
          "data": {
            "text/plain": "+--------+\n|deptName|\n+--------+\n|Research|\n+--------+\n\n"
          },
          "metadata": {}
        },
        {
          "output_type": "display_data",
          "data": {
            "text/html": "<pre>=============================================================<br>Plan with indexes:<br>=============================================================<br>Project [deptName#513]<br>+- Filter (isnotnull(deptId#512) && (deptId#512 = 20))<br>   <b style=\"background:LightGreen\">+- FileScan Hyperspace(Type: CI, Name: deptIndex1, LogVersion: 5) [deptId#512,deptName#513] Batched: true, Format: Parquet, Location: InMemoryFileIndex[abfss://zhaotest@bdbjtestgen2.dfs.core.windows.net/hyperspace/indexes-54658/dep..., PartitionFilters: [], PushedFilters: [IsNotNull(deptId), EqualTo(deptId,20)], ReadSchema: struct<deptId:int,deptName:string></b><br><br>=============================================================<br>Plan without indexes:<br>=============================================================<br>Project [deptName#513]<br>+- Filter (isnotnull(deptId#512) && (deptId#512 = 20))<br>   <b style=\"background:LightGreen\">+- FileScan parquet [deptId#512,deptName#513] Batched: true, Format: Parquet, Location: InMemoryFileIndex[abfss://zhaotest@bdbjtestgen2.dfs.core.windows.net/hyperspace/data-54658/depart..., PartitionFilters: [], PushedFilters: [IsNotNull(deptId), EqualTo(deptId,20)], ReadSchema: struct<deptId:int,deptName:string></b><br><br>=============================================================<br>Indexes used:<br>=============================================================<br>deptIndex1:abfss://zhaotest@bdbjtestgen2.dfs.core.windows.net/hyperspace/indexes-54658/deptIndex1/v__=0<br><br>=============================================================<br>Physical operator stats:<br>=============================================================<br>+-----------------------------------------------------------+-------------------+------------------+----------+<br>|                                          Physical Operator|Hyperspace Disabled|Hyperspace Enabled|Difference|<br>+-----------------------------------------------------------+-------------------+------------------+----------+<br>|*Scan Hyperspace(Type: CI, Name: deptIndex1, LogVersion: 5)|                  0|                 1|         1|<br>|                                              *Scan parquet|                  1|                 0|        -1|<br>|                                                     Filter|                  1|                 1|         0|<br>|                                                    Project|                  1|                 1|         0|<br>|                                          WholeStageCodegen|                  1|                 1|         0|<br>+-----------------------------------------------------------+-------------------+------------------+----------+<br><br></pre>"
          },
          "metadata": {}
        },
        {
          "output_type": "execute_result",
          "data": {},
          "execution_count": 14,
          "metadata": {}
        }
      ],
      "metadata": {},
      "source": [
        "# Filter with equality predicate\n",
        "\n",
        "eqFilter = dept_DF.filter(\"\"\"deptId = 20\"\"\").select(\"\"\"deptName\"\"\")\n",
        "eqFilter.show()\n",
        "\n",
        "hyperspace.explain(eqFilter, True, displayHTML)"
      ]
    },
    {
      "cell_type": "markdown",
      "metadata": {},
      "source": [
        "Our second example is a range selection query on department records. In SQL, this query looks as follows:\n",
        "\n",
        "```sql\n",
        "SELECT deptName \n",
        "FROM departments\n",
        "WHERE deptId > 20\n",
        "```\n",
        "Similar to our first example, the output of the cell below shows the query results (names of two departments) and the query plan. The location of data file in the FileScan operator shows that 'deptIndex1\" was used to run the query.   \n",
        ""
      ]
    },
    {
      "cell_type": "code",
      "execution_count": 15,
      "outputs": [
        {
          "output_type": "display_data",
          "data": {
            "application/vnd.livy.statement-meta+json": {
              "spark_pool": "small",
              "session_id": 9,
              "statement_id": 17,
              "state": "finished",
              "livy_statement_state": "available",
              "queued_time": "2021-02-23T05:35:48.3201336Z",
              "execution_start_time": "2021-02-23T05:37:30.876065Z",
              "execution_finish_time": "2021-02-23T05:37:32.9092027Z"
            },
            "text/plain": "StatementMeta(small, 9, 17, Finished, Available)"
          },
          "metadata": {}
        },
        {
          "output_type": "display_data",
          "data": {
            "text/plain": "+----------+\n|  deptName|\n+----------+\n|Operations|\n|     Sales|\n+----------+\n\n"
          },
          "metadata": {}
        },
        {
          "output_type": "display_data",
          "data": {
            "text/html": "<pre>=============================================================<br>Plan with indexes:<br>=============================================================<br>Project [deptName#513]<br>+- Filter (isnotnull(deptId#512) && (deptId#512 > 20))<br>   <b style=\"background:LightGreen\">+- FileScan Hyperspace(Type: CI, Name: deptIndex1, LogVersion: 5) [deptId#512,deptName#513] Batched: true, Format: Parquet, Location: InMemoryFileIndex[abfss://zhaotest@bdbjtestgen2.dfs.core.windows.net/hyperspace/indexes-54658/dep..., PartitionFilters: [], PushedFilters: [IsNotNull(deptId), GreaterThan(deptId,20)], ReadSchema: struct<deptId:int,deptName:string></b><br><br>=============================================================<br>Plan without indexes:<br>=============================================================<br>Project [deptName#513]<br>+- Filter (isnotnull(deptId#512) && (deptId#512 > 20))<br>   <b style=\"background:LightGreen\">+- FileScan parquet [deptId#512,deptName#513] Batched: true, Format: Parquet, Location: InMemoryFileIndex[abfss://zhaotest@bdbjtestgen2.dfs.core.windows.net/hyperspace/data-54658/depart..., PartitionFilters: [], PushedFilters: [IsNotNull(deptId), GreaterThan(deptId,20)], ReadSchema: struct<deptId:int,deptName:string></b><br><br>=============================================================<br>Indexes used:<br>=============================================================<br>deptIndex1:abfss://zhaotest@bdbjtestgen2.dfs.core.windows.net/hyperspace/indexes-54658/deptIndex1/v__=0<br><br>=============================================================<br>Physical operator stats:<br>=============================================================<br>+-----------------------------------------------------------+-------------------+------------------+----------+<br>|                                          Physical Operator|Hyperspace Disabled|Hyperspace Enabled|Difference|<br>+-----------------------------------------------------------+-------------------+------------------+----------+<br>|*Scan Hyperspace(Type: CI, Name: deptIndex1, LogVersion: 5)|                  0|                 1|         1|<br>|                                              *Scan parquet|                  1|                 0|        -1|<br>|                                                     Filter|                  1|                 1|         0|<br>|                                                    Project|                  1|                 1|         0|<br>|                                          WholeStageCodegen|                  1|                 1|         0|<br>+-----------------------------------------------------------+-------------------+------------------+----------+<br><br></pre>"
          },
          "metadata": {}
        },
        {
          "output_type": "execute_result",
          "data": {},
          "execution_count": 15,
          "metadata": {}
        }
      ],
      "metadata": {},
      "source": [
        "# Filter with range selection predicate\n",
        "\n",
        "rangeFilter = dept_DF.filter(\"\"\"deptId > 20\"\"\").select(\"deptName\")\n",
        "rangeFilter.show()\n",
        "\n",
        "hyperspace.explain(rangeFilter, True, displayHTML)"
      ]
    },
    {
      "cell_type": "markdown",
      "metadata": {},
      "source": [
        "Our third example is a query joining department and employee records on the department id. The equivalent SQL statement is shown below:\n",
        "\n",
        "```sql\n",
        "SELECT employees.deptId, empName, departments.deptId, deptName\n",
        "FROM   employees, departments \n",
        "WHERE  employees.deptId = departments.deptId\n",
        "```\n",
        "\n",
        "The output of running the cell below shows the query results which are the names of 14 employees and the name of department each employee works in. The query plan is also included in the output. Notice how the file locations for two FileScan operators shows that Spark used \"empIndex\" and \"deptIndex1\" indexes to run the query.   \n",
        ""
      ]
    },
    {
      "cell_type": "code",
      "execution_count": 16,
      "outputs": [
        {
          "output_type": "display_data",
          "data": {
            "application/vnd.livy.statement-meta+json": {
              "spark_pool": "small",
              "session_id": 9,
              "statement_id": 18,
              "state": "finished",
              "livy_statement_state": "available",
              "queued_time": "2021-02-23T05:35:48.3461043Z",
              "execution_start_time": "2021-02-23T05:37:32.9785083Z",
              "execution_finish_time": "2021-02-23T05:37:35.0283629Z"
            },
            "text/plain": "StatementMeta(small, 9, 18, Finished, Available)"
          },
          "metadata": {}
        },
        {
          "output_type": "display_data",
          "data": {
            "text/plain": "+-------+--------+\n|empName|deptName|\n+-------+--------+\n|  SMITH|Research|\n|  JONES|Research|\n|  ALLEN|   Sales|\n|  BLAKE|   Sales|\n|   WARD|   Sales|\n+-------+--------+\n\n"
          },
          "metadata": {}
        },
        {
          "output_type": "display_data",
          "data": {
            "text/html": "<pre>=============================================================<br>Plan with indexes:<br>=============================================================<br>Project [empName#507, deptName#513]<br>+- SortMergeJoin [deptId#508], [deptId#512], Inner<br>   <b style=\"background:LightGreen\">:- *(1) Project [empName#507, deptId#508]</b><br>   <b style=\"background:LightGreen\">:  +- *(1) Filter isnotnull(deptId#508)</b><br>   <b style=\"background:LightGreen\">:     +- *(1) FileScan Hyperspace(Type: CI, Name: empIndex1, LogVersion: 1) [deptId#508,empName#507] Batched: true, Format: Parquet, Location: InMemoryFileIndex[abfss://zhaotest@bdbjtestgen2.dfs.core.windows.net/hyperspace/indexes-54658/emp..., PartitionFilters: [], PushedFilters: [IsNotNull(deptId)], ReadSchema: struct<deptId:int,empName:string>, SelectedBucketsCount: 200 out of 200</b><br>   <b style=\"background:LightGreen\">+- *(2) Project [deptId#512, deptName#513]</b><br>      <b style=\"background:LightGreen\">+- *(2) Filter isnotnull(deptId#512)</b><br>         <b style=\"background:LightGreen\">+- *(2) FileScan Hyperspace(Type: CI, Name: deptIndex1, LogVersion: 5) [deptId#512,deptName#513] Batched: true, Format: Parquet, Location: InMemoryFileIndex[abfss://zhaotest@bdbjtestgen2.dfs.core.windows.net/hyperspace/indexes-54658/dep..., PartitionFilters: [], PushedFilters: [IsNotNull(deptId)], ReadSchema: struct<deptId:int,deptName:string>, SelectedBucketsCount: 200 out of 200</b><br><br>=============================================================<br>Plan without indexes:<br>=============================================================<br>Project [empName#507, deptName#513]<br>+- SortMergeJoin [deptId#508], [deptId#512], Inner<br>   <b style=\"background:LightGreen\">:- *(2) Sort [deptId#508 ASC NULLS FIRST], false, 0</b><br>   <b style=\"background:LightGreen\">:  +- Exchange hashpartitioning(deptId#508, 200), [id=#183]</b><br>   <b style=\"background:LightGreen\">:     +- *(1) Project [empName#507, deptId#508]</b><br>   <b style=\"background:LightGreen\">:        +- *(1) Filter isnotnull(deptId#508)</b><br>   <b style=\"background:LightGreen\">:           +- *(1) FileScan parquet [empName#507,deptId#508] Batched: true, Format: Parquet, Location: InMemoryFileIndex[abfss://zhaotest@bdbjtestgen2.dfs.core.windows.net/hyperspace/data-54658/employ..., PartitionFilters: [], PushedFilters: [IsNotNull(deptId)], ReadSchema: struct<empName:string,deptId:int></b><br>   <b style=\"background:LightGreen\">+- *(4) Sort [deptId#512 ASC NULLS FIRST], false, 0</b><br>      <b style=\"background:LightGreen\">+- Exchange hashpartitioning(deptId#512, 200), [id=#189]</b><br>         <b style=\"background:LightGreen\">+- *(3) Project [deptId#512, deptName#513]</b><br>            <b style=\"background:LightGreen\">+- *(3) Filter isnotnull(deptId#512)</b><br>               <b style=\"background:LightGreen\">+- *(3) FileScan parquet [deptId#512,deptName#513] Batched: true, Format: Parquet, Location: InMemoryFileIndex[abfss://zhaotest@bdbjtestgen2.dfs.core.windows.net/hyperspace/data-54658/depart..., PartitionFilters: [], PushedFilters: [IsNotNull(deptId)], ReadSchema: struct<deptId:int,deptName:string></b><br><br>=============================================================<br>Indexes used:<br>=============================================================<br>deptIndex1:abfss://zhaotest@bdbjtestgen2.dfs.core.windows.net/hyperspace/indexes-54658/deptIndex1/v__=0<br>empIndex1:abfss://zhaotest@bdbjtestgen2.dfs.core.windows.net/hyperspace/indexes-54658/empIndex1/v__=0<br><br>=============================================================<br>Physical operator stats:<br>=============================================================<br>+-----------------------------------------------------------+-------------------+------------------+----------+<br>|                                          Physical Operator|Hyperspace Disabled|Hyperspace Enabled|Difference|<br>+-----------------------------------------------------------+-------------------+------------------+----------+<br>|                                              *InputAdapter|                  4|                 2|        -2|<br>|*Scan Hyperspace(Type: CI, Name: deptIndex1, LogVersion: 5)|                  0|                 1|         1|<br>| *Scan Hyperspace(Type: CI, Name: empIndex1, LogVersion: 1)|                  0|                 1|         1|<br>|                                              *Scan parquet|                  2|                 0|        -2|<br>|                                           *ShuffleExchange|                  2|                 0|        -2|<br>|                                                      *Sort|                  2|                 0|        -2|<br>|                                         *WholeStageCodegen|                  5|                 3|        -2|<br>|                                                     Filter|                  2|                 2|         0|<br>|                                                    Project|                  3|                 3|         0|<br>|                                              SortMergeJoin|                  1|                 1|         0|<br>+-----------------------------------------------------------+-------------------+------------------+----------+<br><br></pre>"
          },
          "metadata": {}
        },
        {
          "output_type": "execute_result",
          "data": {},
          "execution_count": 16,
          "metadata": {}
        }
      ],
      "metadata": {},
      "source": [
        "# Join\n",
        "\n",
        "eqJoin = emp_DF.join(dept_DF, emp_DF.deptId == dept_DF.deptId).select(emp_DF.empName, dept_DF.deptName)\n",
        "\n",
        "eqJoin.show()\n",
        "\n",
        "hyperspace.explain(eqJoin, True, displayHTML)"
      ]
    },
    {
      "cell_type": "markdown",
      "metadata": {},
      "source": [
        "## Support for SQL Semantics\n",
        "\n",
        "The index usage is transparent to whether the user uses DataFrame API or Spark™ SQL. The following example shows the same join example as before but using Spark SQL, showing the use of indexes if applicable."
      ]
    },
    {
      "cell_type": "code",
      "execution_count": 17,
      "outputs": [
        {
          "output_type": "display_data",
          "data": {
            "application/vnd.livy.statement-meta+json": {
              "spark_pool": "small",
              "session_id": 9,
              "statement_id": 19,
              "state": "finished",
              "livy_statement_state": "available",
              "queued_time": "2021-02-23T05:35:48.3733239Z",
              "execution_start_time": "2021-02-23T05:37:35.1110057Z",
              "execution_finish_time": "2021-02-23T05:37:39.2021631Z"
            },
            "text/plain": "StatementMeta(small, 9, 19, Finished, Available)"
          },
          "metadata": {}
        },
        {
          "output_type": "display_data",
          "data": {
            "text/plain": "+-------+--------+\n|empName|deptName|\n+-------+--------+\n|  SMITH|Research|\n|  JONES|Research|\n|  ALLEN|   Sales|\n|  BLAKE|   Sales|\n|   WARD|   Sales|\n+-------+--------+\n\n"
          },
          "metadata": {}
        },
        {
          "output_type": "display_data",
          "data": {
            "text/html": "<pre>=============================================================<br>Plan with indexes:<br>=============================================================<br>Project [empName#507, deptName#513]<br>+- SortMergeJoin [deptId#508], [deptId#512], Inner<br>   <b style=\"background:LightGreen\">:- *(1) Project [empName#507, deptId#508]</b><br>   <b style=\"background:LightGreen\">:  +- *(1) Filter isnotnull(deptId#508)</b><br>   <b style=\"background:LightGreen\">:     +- *(1) FileScan Hyperspace(Type: CI, Name: empIndex1, LogVersion: 1) [deptId#508,empName#507] Batched: true, Format: Parquet, Location: InMemoryFileIndex[abfss://zhaotest@bdbjtestgen2.dfs.core.windows.net/hyperspace/indexes-54658/emp..., PartitionFilters: [], PushedFilters: [IsNotNull(deptId)], ReadSchema: struct<deptId:int,empName:string>, SelectedBucketsCount: 200 out of 200</b><br>   <b style=\"background:LightGreen\">+- *(2) Project [deptId#512, deptName#513]</b><br>      <b style=\"background:LightGreen\">+- *(2) Filter isnotnull(deptId#512)</b><br>         <b style=\"background:LightGreen\">+- *(2) FileScan Hyperspace(Type: CI, Name: deptIndex1, LogVersion: 5) [deptId#512,deptName#513] Batched: true, Format: Parquet, Location: InMemoryFileIndex[abfss://zhaotest@bdbjtestgen2.dfs.core.windows.net/hyperspace/indexes-54658/dep..., PartitionFilters: [], PushedFilters: [IsNotNull(deptId)], ReadSchema: struct<deptId:int,deptName:string>, SelectedBucketsCount: 200 out of 200</b><br><br>=============================================================<br>Plan without indexes:<br>=============================================================<br>Project [empName#507, deptName#513]<br>+- SortMergeJoin [deptId#508], [deptId#512], Inner<br>   <b style=\"background:LightGreen\">:- *(2) Sort [deptId#508 ASC NULLS FIRST], false, 0</b><br>   <b style=\"background:LightGreen\">:  +- Exchange hashpartitioning(deptId#508, 200), [id=#279]</b><br>   <b style=\"background:LightGreen\">:     +- *(1) Project [empName#507, deptId#508]</b><br>   <b style=\"background:LightGreen\">:        +- *(1) Filter isnotnull(deptId#508)</b><br>   <b style=\"background:LightGreen\">:           +- *(1) FileScan parquet [empName#507,deptId#508] Batched: true, Format: Parquet, Location: InMemoryFileIndex[abfss://zhaotest@bdbjtestgen2.dfs.core.windows.net/hyperspace/data-54658/employ..., PartitionFilters: [], PushedFilters: [IsNotNull(deptId)], ReadSchema: struct<empName:string,deptId:int></b><br>   <b style=\"background:LightGreen\">+- *(4) Sort [deptId#512 ASC NULLS FIRST], false, 0</b><br>      <b style=\"background:LightGreen\">+- Exchange hashpartitioning(deptId#512, 200), [id=#285]</b><br>         <b style=\"background:LightGreen\">+- *(3) Project [deptId#512, deptName#513]</b><br>            <b style=\"background:LightGreen\">+- *(3) Filter isnotnull(deptId#512)</b><br>               <b style=\"background:LightGreen\">+- *(3) FileScan parquet [deptId#512,deptName#513] Batched: true, Format: Parquet, Location: InMemoryFileIndex[abfss://zhaotest@bdbjtestgen2.dfs.core.windows.net/hyperspace/data-54658/depart..., PartitionFilters: [], PushedFilters: [IsNotNull(deptId)], ReadSchema: struct<deptId:int,deptName:string></b><br><br>=============================================================<br>Indexes used:<br>=============================================================<br>deptIndex1:abfss://zhaotest@bdbjtestgen2.dfs.core.windows.net/hyperspace/indexes-54658/deptIndex1/v__=0<br>empIndex1:abfss://zhaotest@bdbjtestgen2.dfs.core.windows.net/hyperspace/indexes-54658/empIndex1/v__=0<br><br>=============================================================<br>Physical operator stats:<br>=============================================================<br>+-----------------------------------------------------------+-------------------+------------------+----------+<br>|                                          Physical Operator|Hyperspace Disabled|Hyperspace Enabled|Difference|<br>+-----------------------------------------------------------+-------------------+------------------+----------+<br>|                                              *InputAdapter|                  4|                 2|        -2|<br>|*Scan Hyperspace(Type: CI, Name: deptIndex1, LogVersion: 5)|                  0|                 1|         1|<br>| *Scan Hyperspace(Type: CI, Name: empIndex1, LogVersion: 1)|                  0|                 1|         1|<br>|                                              *Scan parquet|                  2|                 0|        -2|<br>|                                           *ShuffleExchange|                  2|                 0|        -2|<br>|                                                      *Sort|                  2|                 0|        -2|<br>|                                         *WholeStageCodegen|                  5|                 3|        -2|<br>|                                                     Filter|                  2|                 2|         0|<br>|                                                    Project|                  3|                 3|         0|<br>|                                              SortMergeJoin|                  1|                 1|         0|<br>+-----------------------------------------------------------+-------------------+------------------+----------+<br><br></pre>"
          },
          "metadata": {}
        },
        {
          "output_type": "execute_result",
          "data": {},
          "execution_count": 17,
          "metadata": {}
        }
      ],
      "metadata": {},
      "source": [
        "from pyspark.sql import SparkSession\n",
        "\n",
        "emp_DF.createOrReplaceTempView(\"EMP\")\n",
        "dept_DF.createOrReplaceTempView(\"DEPT\")\n",
        "\n",
        "joinQuery = spark.sql(\"SELECT EMP.empName, DEPT.deptName FROM EMP, DEPT WHERE EMP.deptId = DEPT.deptId\")\n",
        "\n",
        "joinQuery.show()\n",
        "hyperspace.explain(joinQuery, True, displayHTML)"
      ]
    },
    {
      "cell_type": "markdown",
      "metadata": {},
      "source": [
        "## Explain API\n",
        "\n",
        "So far, you might have observed we have been using the explain API provided by Hyperspace. The `explain` API from Hyperspace is very similar to Spark's `df.explain` API but allows users to compare their original plan vs the updated index-dependent plan before running their query. You have an option to choose from html/plaintext/console mode to display the command output. \n",
        "\n",
        "The following cell shows an example with HTML. The highlighted section represents the difference between original and updated plans along with the indexes being used."
      ]
    },
    {
      "cell_type": "code",
      "execution_count": 18,
      "outputs": [
        {
          "output_type": "display_data",
          "data": {
            "application/vnd.livy.statement-meta+json": {
              "spark_pool": "small",
              "session_id": 9,
              "statement_id": 20,
              "state": "finished",
              "livy_statement_state": "available",
              "queued_time": "2021-02-23T05:35:48.4064714Z",
              "execution_start_time": "2021-02-23T05:37:39.2667481Z",
              "execution_finish_time": "2021-02-23T05:37:41.2977835Z"
            },
            "text/plain": "StatementMeta(small, 9, 20, Finished, Available)"
          },
          "metadata": {}
        },
        {
          "output_type": "display_data",
          "data": {
            "text/html": "<pre>=============================================================<br>Plan with indexes:<br>=============================================================<br>Project [empName#507, deptName#513]<br>+- SortMergeJoin [deptId#508], [deptId#512], Inner<br>   <b style=\"background:LightGreen\">:- *(1) Project [empName#507, deptId#508]</b><br>   <b style=\"background:LightGreen\">:  +- *(1) Filter isnotnull(deptId#508)</b><br>   <b style=\"background:LightGreen\">:     +- *(1) FileScan Hyperspace(Type: CI, Name: empIndex1, LogVersion: 1) [deptId#508,empName#507] Batched: true, Format: Parquet, Location: InMemoryFileIndex[abfss://zhaotest@bdbjtestgen2.dfs.core.windows.net/hyperspace/indexes-54658/emp..., PartitionFilters: [], PushedFilters: [IsNotNull(deptId)], ReadSchema: struct<deptId:int,empName:string>, SelectedBucketsCount: 200 out of 200</b><br>   <b style=\"background:LightGreen\">+- *(2) Project [deptId#512, deptName#513]</b><br>      <b style=\"background:LightGreen\">+- *(2) Filter isnotnull(deptId#512)</b><br>         <b style=\"background:LightGreen\">+- *(2) FileScan Hyperspace(Type: CI, Name: deptIndex1, LogVersion: 5) [deptId#512,deptName#513] Batched: true, Format: Parquet, Location: InMemoryFileIndex[abfss://zhaotest@bdbjtestgen2.dfs.core.windows.net/hyperspace/indexes-54658/dep..., PartitionFilters: [], PushedFilters: [IsNotNull(deptId)], ReadSchema: struct<deptId:int,deptName:string>, SelectedBucketsCount: 200 out of 200</b><br><br>=============================================================<br>Plan without indexes:<br>=============================================================<br>Project [empName#507, deptName#513]<br>+- SortMergeJoin [deptId#508], [deptId#512], Inner<br>   <b style=\"background:LightGreen\">:- *(2) Sort [deptId#508 ASC NULLS FIRST], false, 0</b><br>   <b style=\"background:LightGreen\">:  +- Exchange hashpartitioning(deptId#508, 200), [id=#345]</b><br>   <b style=\"background:LightGreen\">:     +- *(1) Project [empName#507, deptId#508]</b><br>   <b style=\"background:LightGreen\">:        +- *(1) Filter isnotnull(deptId#508)</b><br>   <b style=\"background:LightGreen\">:           +- *(1) FileScan parquet [empName#507,deptId#508] Batched: true, Format: Parquet, Location: InMemoryFileIndex[abfss://zhaotest@bdbjtestgen2.dfs.core.windows.net/hyperspace/data-54658/employ..., PartitionFilters: [], PushedFilters: [IsNotNull(deptId)], ReadSchema: struct<empName:string,deptId:int></b><br>   <b style=\"background:LightGreen\">+- *(4) Sort [deptId#512 ASC NULLS FIRST], false, 0</b><br>      <b style=\"background:LightGreen\">+- Exchange hashpartitioning(deptId#512, 200), [id=#351]</b><br>         <b style=\"background:LightGreen\">+- *(3) Project [deptId#512, deptName#513]</b><br>            <b style=\"background:LightGreen\">+- *(3) Filter isnotnull(deptId#512)</b><br>               <b style=\"background:LightGreen\">+- *(3) FileScan parquet [deptId#512,deptName#513] Batched: true, Format: Parquet, Location: InMemoryFileIndex[abfss://zhaotest@bdbjtestgen2.dfs.core.windows.net/hyperspace/data-54658/depart..., PartitionFilters: [], PushedFilters: [IsNotNull(deptId)], ReadSchema: struct<deptId:int,deptName:string></b><br><br>=============================================================<br>Indexes used:<br>=============================================================<br>deptIndex1:abfss://zhaotest@bdbjtestgen2.dfs.core.windows.net/hyperspace/indexes-54658/deptIndex1/v__=0<br>empIndex1:abfss://zhaotest@bdbjtestgen2.dfs.core.windows.net/hyperspace/indexes-54658/empIndex1/v__=0<br><br>=============================================================<br>Physical operator stats:<br>=============================================================<br>+-----------------------------------------------------------+-------------------+------------------+----------+<br>|                                          Physical Operator|Hyperspace Disabled|Hyperspace Enabled|Difference|<br>+-----------------------------------------------------------+-------------------+------------------+----------+<br>|                                              *InputAdapter|                  4|                 2|        -2|<br>|*Scan Hyperspace(Type: CI, Name: deptIndex1, LogVersion: 5)|                  0|                 1|         1|<br>| *Scan Hyperspace(Type: CI, Name: empIndex1, LogVersion: 1)|                  0|                 1|         1|<br>|                                              *Scan parquet|                  2|                 0|        -2|<br>|                                           *ShuffleExchange|                  2|                 0|        -2|<br>|                                                      *Sort|                  2|                 0|        -2|<br>|                                         *WholeStageCodegen|                  5|                 3|        -2|<br>|                                                     Filter|                  2|                 2|         0|<br>|                                                    Project|                  3|                 3|         0|<br>|                                              SortMergeJoin|                  1|                 1|         0|<br>+-----------------------------------------------------------+-------------------+------------------+----------+<br><br></pre>"
          },
          "metadata": {}
        },
        {
          "output_type": "execute_result",
          "data": {},
          "execution_count": 18,
          "metadata": {}
        }
      ],
      "metadata": {},
      "source": [
        "eqJoin = emp_DF.join(dept_DF, emp_DF.deptId == dept_DF.deptId).select(emp_DF.empName, dept_DF.deptName)\n",
        "\n",
        "spark.conf.set(\"spark.hyperspace.explain.displayMode\", \"html\")\n",
        "hyperspace.explain(eqJoin, True, displayHTML)"
      ]
    },
    {
      "cell_type": "markdown",
      "metadata": {},
      "source": [
        "## Refresh Indexes\n",
        "If the original data on which an index was created changes, then the index will no longer capture the latest state of data and hence will not be used by Hyperspace to provide any acceleration. The user can refresh such a stale index using the `refreshIndex` API. This causes the index to be fully rebuilt and updates it according to the latest data records.\n",
        "    \n",
        "    Spoiler alert: if you are worried about fully rebuilding your index every time your data changes, don't worry! We will show you how to *incrementally refresh* your index in subsequent cells below.\n",
        "\n",
        "The two cells below show an example for this scenario:\n",
        "- First cell adds two more departments to the original departments data. It reads and prints list of departments to verify new departments are added correctly. The output shows 6 departments in total: four old ones and two new. Invoking \"refreshIndex\" updates \"deptIndex1\" so index captures new departments.\n",
        "- Second cell runs our range selection query example. The results should now contain four departments: two are the ones, seen before when we ran the query above, and two are the new departments we just added."
      ]
    },
    {
      "cell_type": "code",
      "execution_count": 19,
      "outputs": [
        {
          "output_type": "display_data",
          "data": {
            "application/vnd.livy.statement-meta+json": {
              "spark_pool": "small",
              "session_id": 9,
              "statement_id": 21,
              "state": "finished",
              "livy_statement_state": "available",
              "queued_time": "2021-02-23T05:35:48.4353269Z",
              "execution_start_time": "2021-02-23T05:37:41.3611328Z",
              "execution_finish_time": "2021-02-23T05:37:47.4771814Z"
            },
            "text/plain": "StatementMeta(small, 9, 21, Finished, Available)"
          },
          "metadata": {}
        },
        {
          "output_type": "execute_result",
          "data": {
            "text/plain": "+------+---------------+-------------+\n|deptId|       deptName|     location|\n+------+---------------+-------------+\n|    60|Human Resources|San Francisco|\n|    10|     Accounting|     New York|\n|    50|      Inovation|      Seattle|\n|    40|     Operations|       Boston|\n|    20|       Research|       Dallas|\n|    30|          Sales|      Chicago|\n+------+---------------+-------------+"
          },
          "execution_count": 19,
          "metadata": {}
        }
      ],
      "metadata": {},
      "source": [
        "extra_Departments = [(50, \"Inovation\", \"Seattle\"), (60, \"Human Resources\", \"San Francisco\")]\n",
        "\n",
        "extra_departments_df = spark.createDataFrame(extra_Departments, dept_schema)\n",
        "extra_departments_df.write.mode(\"Append\").parquet(dept_Location)\n",
        "\n",
        "\n",
        "dept_DFrame_Updated = spark.read.parquet(dept_Location)\n",
        "\n",
        "dept_DFrame_Updated.show(10)\n",
        "\n",
        "hyperspace.refreshIndex(\"deptIndex1\")"
      ]
    },
    {
      "cell_type": "code",
      "execution_count": 20,
      "outputs": [
        {
          "output_type": "display_data",
          "data": {
            "application/vnd.livy.statement-meta+json": {
              "spark_pool": "small",
              "session_id": 9,
              "statement_id": 22,
              "state": "finished",
              "livy_statement_state": "available",
              "queued_time": "2021-02-23T05:35:48.4634989Z",
              "execution_start_time": "2021-02-23T05:37:47.5400507Z",
              "execution_finish_time": "2021-02-23T05:37:49.5818723Z"
            },
            "text/plain": "StatementMeta(small, 9, 22, Finished, Available)"
          },
          "metadata": {}
        },
        {
          "output_type": "display_data",
          "data": {
            "text/plain": "+---------------+\n|       deptName|\n+---------------+\n|Human Resources|\n|      Inovation|\n|     Operations|\n|          Sales|\n+---------------+\n\n"
          },
          "metadata": {}
        },
        {
          "output_type": "display_data",
          "data": {
            "text/html": "<pre>=============================================================<br>Plan with indexes:<br>=============================================================<br>Project [deptName#1092]<br>+- Filter (isnotnull(deptId#1091) && (deptId#1091 > 20))<br>   <b style=\"background:LightGreen\">+- FileScan Hyperspace(Type: CI, Name: deptIndex1, LogVersion: 7) [deptId#1091,deptName#1092] Batched: true, Format: Parquet, Location: InMemoryFileIndex[abfss://zhaotest@bdbjtestgen2.dfs.core.windows.net/hyperspace/indexes-54658/dep..., PartitionFilters: [], PushedFilters: [IsNotNull(deptId), GreaterThan(deptId,20)], ReadSchema: struct<deptId:int,deptName:string></b><br><br>=============================================================<br>Plan without indexes:<br>=============================================================<br>Project [deptName#1092]<br>+- Filter (isnotnull(deptId#1091) && (deptId#1091 > 20))<br>   <b style=\"background:LightGreen\">+- FileScan parquet [deptId#1091,deptName#1092] Batched: true, Format: Parquet, Location: InMemoryFileIndex[abfss://zhaotest@bdbjtestgen2.dfs.core.windows.net/hyperspace/data-54658/depart..., PartitionFilters: [], PushedFilters: [IsNotNull(deptId), GreaterThan(deptId,20)], ReadSchema: struct<deptId:int,deptName:string></b><br><br>=============================================================<br>Indexes used:<br>=============================================================<br>deptIndex1:abfss://zhaotest@bdbjtestgen2.dfs.core.windows.net/hyperspace/indexes-54658/deptIndex1/v__=1<br><br>=============================================================<br>Physical operator stats:<br>=============================================================<br>+-----------------------------------------------------------+-------------------+------------------+----------+<br>|                                          Physical Operator|Hyperspace Disabled|Hyperspace Enabled|Difference|<br>+-----------------------------------------------------------+-------------------+------------------+----------+<br>|*Scan Hyperspace(Type: CI, Name: deptIndex1, LogVersion: 7)|                  0|                 1|         1|<br>|                                              *Scan parquet|                  1|                 0|        -1|<br>|                                                     Filter|                  1|                 1|         0|<br>|                                                    Project|                  1|                 1|         0|<br>|                                          WholeStageCodegen|                  1|                 1|         0|<br>+-----------------------------------------------------------+-------------------+------------------+----------+<br><br></pre>"
          },
          "metadata": {}
        },
        {
          "output_type": "execute_result",
          "data": {},
          "execution_count": 20,
          "metadata": {}
        }
      ],
      "metadata": {},
      "source": [
        "newRangeFilter = dept_DFrame_Updated.filter(\"deptId > 20\").select(\"deptName\")\n",
        "newRangeFilter.show()\n",
        "\n",
        "hyperspace.explain(newRangeFilter, True, displayHTML)"
      ]
    },
    {
      "cell_type": "code",
      "execution_count": 21,
      "outputs": [
        {
          "output_type": "display_data",
          "data": {
            "application/vnd.livy.statement-meta+json": {
              "spark_pool": "small",
              "session_id": 9,
              "statement_id": 23,
              "state": "finished",
              "livy_statement_state": "available",
              "queued_time": "2021-02-23T05:35:48.4913386Z",
              "execution_start_time": "2021-02-23T05:37:49.6495577Z",
              "execution_finish_time": "2021-02-23T05:37:51.6893446Z"
            },
            "text/plain": "StatementMeta(small, 9, 23, Finished, Available)"
          },
          "metadata": {}
        },
        {
          "output_type": "execute_result",
          "data": {
            "text/plain": "+----------+--------------+---------------+----------+--------------------+--------------------+------+\n|      name|indexedColumns|includedColumns|numBuckets|              schema|       indexLocation| state|\n+----------+--------------+---------------+----------+--------------------+--------------------+------+\n|deptIndex1|      [deptId]|     [deptName]|       200|{\"type\":\"struct\",...|abfss://zhaotest@...|ACTIVE|\n| empIndex1|      [deptId]|      [empName]|       200|{\"type\":\"struct\",...|abfss://zhaotest@...|ACTIVE|\n+----------+--------------+---------------+----------+--------------------+--------------------+------+"
          },
          "execution_count": 21,
          "metadata": {}
        }
      ],
      "metadata": {},
      "source": [
        "hyperspace.indexes().show()"
      ]
    },
    {
      "cell_type": "code",
      "execution_count": 22,
      "outputs": [
        {
          "output_type": "display_data",
          "data": {
            "application/vnd.livy.statement-meta+json": {
              "spark_pool": "small",
              "session_id": 9,
              "statement_id": 24,
              "state": "finished",
              "livy_statement_state": "available",
              "queued_time": "2021-02-23T05:35:48.5223299Z",
              "execution_start_time": "2021-02-23T05:37:51.7544709Z",
              "execution_finish_time": "2021-02-23T05:37:55.8252245Z"
            },
            "text/plain": "StatementMeta(small, 9, 24, Finished, Available)"
          },
          "metadata": {}
        },
        {
          "output_type": "execute_result",
          "data": {
            "text/plain": ""
          },
          "execution_count": 22,
          "metadata": {}
        }
      ],
      "metadata": {},
      "source": [
        "# Clean-up the remaining indexes\n",
        "hyperspace.deleteIndex(\"empIndex1\")\n",
        "hyperspace.deleteIndex(\"deptIndex1\")\n",
        "\n",
        "hyperspace.vacuumIndex(\"empIndex1\")\n",
        "hyperspace.vacuumIndex(\"deptIndex1\")"
      ]
    },
    {
      "cell_type": "markdown",
      "metadata": {
        "nteract": {
          "transient": {
            "deleting": false
          }
        }
      },
      "source": [
        "## Hybrid Scan for Mutable Datasets\n",
        "\n",
        "Often times, if your underlying source data had some new files appended or existing files deleted, your index will get stale and Hyperspace decides not to use it. However, there are times where you just want to use the index without having to refresh it everytime. There could be multiple reasons for doing so:\n",
        "\n",
        "  1. You do not want to continuosly refresh your index but instead want to do it periodically since you understand your workloads the best.  \n",
        "  2. You added/removed only a few files and do not want to wait for yet another refresh job to finish. \n",
        "\n",
        "To allow you to still use a stale index, Hyperspace introduces **Hybrid Scan**, a novel technique that allows users to utilize outdated or stale indexes (e.g., the underlying source data had some new files appended or existing files deleted), without refreshing indexes. \n",
        "\n",
        "To achieve this, when you set the appropriate configuration to enable Hybrid Scan, Hyperspace modifies the query plan to leverage the changes as following:\n",
        "- Appended files can be merged to index data by using **`Union` or `BucketUnion` (for join)**. Shuffling appended data can also be applied before merging, if needed.\n",
        "- Deleted files can be handled by injecting `Filter-NOT-IN` condition on **lineage column** of index data, so that the indexed rows from the deleted files can be excluded at query time. \n",
        "\n",
        "You can check the transformation of the query plan in below examples.\n",
        "\n",
        "    Note: Hybrid scan is only supported for non-partitioned data. Support for partitioned data is currently being worked upon."
      ]
    },
    {
      "cell_type": "markdown",
      "metadata": {
        "nteract": {
          "transient": {
            "deleting": false
          }
        }
      },
      "source": [
        "### Hybrid Scan for appended files - non-partitioned data\n",
        "\n",
        "Non-partitioned data is used in below example. In this example, we expect Join index can be used for the query and `BucketUnion` is introduced for appended files."
      ]
    },
    {
      "cell_type": "code",
      "execution_count": 23,
      "outputs": [
        {
          "output_type": "display_data",
          "data": {
            "application/vnd.livy.statement-meta+json": {
              "spark_pool": "small",
              "session_id": 9,
              "statement_id": 25,
              "state": "finished",
              "livy_statement_state": "available",
              "queued_time": "2021-02-23T05:35:48.5495225Z",
              "execution_start_time": "2021-02-23T05:37:55.8895779Z",
              "execution_finish_time": "2021-02-23T05:37:57.9171177Z"
            },
            "text/plain": "StatementMeta(small, 9, 25, Finished, Available)"
          },
          "metadata": {}
        },
        {
          "output_type": "execute_result",
          "data": {
            "text/plain": ""
          },
          "execution_count": 23,
          "metadata": {}
        }
      ],
      "metadata": {
        "jupyter": {
          "source_hidden": false,
          "outputs_hidden": false
        },
        "nteract": {
          "transient": {
            "deleting": false
          }
        },
        "collapsed": true
      },
      "source": [
        "# GENERATE TEST DATA\n",
        "\n",
        "testdata = [\n",
        "    (\"orange\", 3, \"2020-10-01\"),\n",
        "    (\"banana\", 1, \"2020-10-01\"),\n",
        "    (\"carrot\", 5, \"2020-10-02\"),\n",
        "    (\"beetroot\", 12, \"2020-10-02\"),\n",
        "    (\"orange\", 2, \"2020-10-03\"),\n",
        "    (\"banana\", 11, \"2020-10-03\"),\n",
        "    (\"carrot\", 3, \"2020-10-03\"),\n",
        "    (\"beetroot\", 2, \"2020-10-04\"),\n",
        "    (\"cucumber\", 7, \"2020-10-05\"),\n",
        "    (\"pepper\", 20, \"2020-10-06\")\n",
        "]\n",
        "\n",
        "testdata_location = data_path + \"/productTable\"\n",
        "from pyspark.sql.types import StructField, StructType, StringType, IntegerType\n",
        "testdata_schema = StructType([\n",
        "    StructField('name', StringType(), True),\n",
        "    StructField('qty', IntegerType(), True),\n",
        "    StructField('date', StringType(), True)])\n",
        "\n",
        "test_df = spark.createDataFrame(testdata, testdata_schema)\n",
        "test_df.write.mode(\"overwrite\").parquet(testdata_location)\n",
        "test_df = spark.read.parquet(testdata_location)"
      ]
    },
    {
      "cell_type": "code",
      "execution_count": 24,
      "outputs": [
        {
          "output_type": "display_data",
          "data": {
            "application/vnd.livy.statement-meta+json": {
              "spark_pool": "small",
              "session_id": 9,
              "statement_id": 26,
              "state": "finished",
              "livy_statement_state": "available",
              "queued_time": "2021-02-23T05:35:48.5793658Z",
              "execution_start_time": "2021-02-23T05:37:57.9837722Z",
              "execution_finish_time": "2021-02-23T05:38:04.0866163Z"
            },
            "text/plain": "StatementMeta(small, 9, 26, Finished, Available)"
          },
          "metadata": {}
        },
        {
          "output_type": "display_data",
          "data": {
            "text/html": "<pre>=============================================================<br>Plan with indexes:<br>=============================================================<br>Project [name#1318, qty#1319, date#1320, qty#1343, date#1344]<br>+- SortMergeJoin [name#1318], [name#1342], Inner<br>   <b style=\"background:LightGreen\">:- *(1) Project [name#1318, qty#1319, date#1320]</b><br>   <b style=\"background:LightGreen\">:  +- *(1) Filter (isnotnull(name#1318) && (name#1318 = banana))</b><br>   <b style=\"background:LightGreen\">:     +- *(1) FileScan Hyperspace(Type: CI, Name: productIndex2, LogVersion: 1) [name#1318,date#1320,qty#1319] Batched: true, Format: Parquet, Location: InMemoryFileIndex[abfss://zhaotest@bdbjtestgen2.dfs.core.windows.net/hyperspace/indexes-54658/pro..., PartitionFilters: [], PushedFilters: [IsNotNull(name), EqualTo(name,banana)], ReadSchema: struct<name:string,date:string,qty:int>, SelectedBucketsCount: 1 out of 200</b><br>   <b style=\"background:LightGreen\">+- *(2) Project [name#1342, qty#1343, date#1344]</b><br>      <b style=\"background:LightGreen\">+- *(2) Filter (((isnotnull(qty#1343) && (qty#1343 > 10)) && isnotnull(name#1342)) && (name#1342 = banana))</b><br>         <b style=\"background:LightGreen\">+- *(2) FileScan Hyperspace(Type: CI, Name: productIndex2, LogVersion: 1) [name#1342,date#1344,qty#1343] Batched: true, Format: Parquet, Location: InMemoryFileIndex[abfss://zhaotest@bdbjtestgen2.dfs.core.windows.net/hyperspace/indexes-54658/pro..., PartitionFilters: [], PushedFilters: [IsNotNull(qty), GreaterThan(qty,10), IsNotNull(name), EqualTo(name,banana)], ReadSchema: struct<name:string,date:string,qty:int>, SelectedBucketsCount: 1 out of 200</b><br><br>=============================================================<br>Plan without indexes:<br>=============================================================<br>Project [name#1318, qty#1319, date#1320, qty#1343, date#1344]<br>+- SortMergeJoin [name#1318], [name#1342], Inner<br>   <b style=\"background:LightGreen\">:- *(2) Sort [name#1318 ASC NULLS FIRST], false, 0</b><br>   <b style=\"background:LightGreen\">:  +- Exchange hashpartitioning(name#1318, 200), [id=#479]</b><br>   <b style=\"background:LightGreen\">:     +- *(1) Project [name#1318, qty#1319, date#1320]</b><br>   <b style=\"background:LightGreen\">:        +- *(1) Filter (isnotnull(name#1318) && (name#1318 = banana))</b><br>   <b style=\"background:LightGreen\">:           +- *(1) FileScan parquet [name#1318,qty#1319,date#1320] Batched: true, Format: Parquet, Location: InMemoryFileIndex[abfss://zhaotest@bdbjtestgen2.dfs.core.windows.net/hyperspace/data-54658/produc..., PartitionFilters: [], PushedFilters: [IsNotNull(name), EqualTo(name,banana)], ReadSchema: struct<name:string,qty:int,date:string></b><br>   <b style=\"background:LightGreen\">+- *(4) Sort [name#1342 ASC NULLS FIRST], false, 0</b><br>      <b style=\"background:LightGreen\">+- Exchange hashpartitioning(name#1342, 200), [id=#485]</b><br>         <b style=\"background:LightGreen\">+- *(3) Project [name#1342, qty#1343, date#1344]</b><br>            <b style=\"background:LightGreen\">+- *(3) Filter (((isnotnull(qty#1343) && (qty#1343 > 10)) && isnotnull(name#1342)) && (name#1342 = banana))</b><br>               <b style=\"background:LightGreen\">+- *(3) FileScan parquet [name#1342,qty#1343,date#1344] Batched: true, Format: Parquet, Location: InMemoryFileIndex[abfss://zhaotest@bdbjtestgen2.dfs.core.windows.net/hyperspace/data-54658/produc..., PartitionFilters: [], PushedFilters: [IsNotNull(qty), GreaterThan(qty,10), IsNotNull(name), EqualTo(name,banana)], ReadSchema: struct<name:string,qty:int,date:string></b><br><br>=============================================================<br>Indexes used:<br>=============================================================<br>productIndex2:abfss://zhaotest@bdbjtestgen2.dfs.core.windows.net/hyperspace/indexes-54658/productIndex2/v__=0<br><br>=============================================================<br>Physical operator stats:<br>=============================================================<br>+--------------------------------------------------------------+-------------------+------------------+----------+<br>|                                             Physical Operator|Hyperspace Disabled|Hyperspace Enabled|Difference|<br>+--------------------------------------------------------------+-------------------+------------------+----------+<br>|                                                 *InputAdapter|                  4|                 2|        -2|<br>|*Scan Hyperspace(Type: CI, Name: productIndex2, LogVersion: 1)|                  0|                 2|         2|<br>|                                                 *Scan parquet|                  2|                 0|        -2|<br>|                                              *ShuffleExchange|                  2|                 0|        -2|<br>|                                                         *Sort|                  2|                 0|        -2|<br>|                                            *WholeStageCodegen|                  5|                 3|        -2|<br>|                                                        Filter|                  2|                 2|         0|<br>|                                                       Project|                  3|                 3|         0|<br>|                                                 SortMergeJoin|                  1|                 1|         0|<br>+--------------------------------------------------------------+-------------------+------------------+----------+<br><br></pre>"
          },
          "metadata": {}
        },
        {
          "output_type": "execute_result",
          "data": {},
          "execution_count": 24,
          "metadata": {}
        }
      ],
      "metadata": {
        "jupyter": {
          "source_hidden": false,
          "outputs_hidden": false
        },
        "nteract": {
          "transient": {
            "deleting": false
          }
        },
        "collapsed": true
      },
      "source": [
        "# CREATE INDEX\n",
        "hyperspace.createIndex(test_df, IndexConfig(\"productIndex2\", [\"name\"], [\"date\", \"qty\"]))\n",
        "\n",
        "spark.conf.set(\"spark.sql.autoBroadcastJoinThreshold\", -1)\n",
        "filter1 = test_df.filter(\"name = 'banana'\")\n",
        "filter2 = test_df.filter(\"qty > 10\")\n",
        "query = filter1.join(filter2, \"name\")\n",
        "\n",
        "# Check Join index rule is applied properly.\n",
        "hyperspace.explain(query, True, displayHTML)"
      ]
    },
    {
      "cell_type": "code",
      "execution_count": 25,
      "outputs": [
        {
          "output_type": "display_data",
          "data": {
            "application/vnd.livy.statement-meta+json": {
              "spark_pool": "small",
              "session_id": 9,
              "statement_id": 27,
              "state": "finished",
              "livy_statement_state": "available",
              "queued_time": "2021-02-23T05:35:48.6089651Z",
              "execution_start_time": "2021-02-23T05:38:04.1530823Z",
              "execution_finish_time": "2021-02-23T05:38:06.1873297Z"
            },
            "text/plain": "StatementMeta(small, 9, 27, Finished, Available)"
          },
          "metadata": {}
        },
        {
          "output_type": "execute_result",
          "data": {
            "text/plain": ""
          },
          "execution_count": 25,
          "metadata": {}
        }
      ],
      "metadata": {
        "jupyter": {
          "source_hidden": false,
          "outputs_hidden": false
        },
        "nteract": {
          "transient": {
            "deleting": false
          }
        },
        "collapsed": true
      },
      "source": [
        "# Append new files.\r\n",
        "append_data = [\r\n",
        "    (\"orange\", 13, \"2020-11-01\"),\r\n",
        "    (\"banana\", 5, \"2020-11-01\")\r\n",
        "]\r\n",
        "append_df = spark.createDataFrame(append_data, testdata_schema)\r\n",
        "append_df.write.mode(\"append\").parquet(testdata_location)"
      ]
    },
    {
      "cell_type": "markdown",
      "metadata": {},
      "source": [
        "Hybrid scan is disabled by default. Therefore, you will see that since we appended new data, Hyperspace will decide NOT to use the index.\n",
        "\n",
        "In the output, you will see no plan differences (hence no highlighting)."
      ]
    },
    {
      "cell_type": "code",
      "execution_count": 26,
      "outputs": [
        {
          "output_type": "display_data",
          "data": {
            "application/vnd.livy.statement-meta+json": {
              "spark_pool": "small",
              "session_id": 9,
              "statement_id": 28,
              "state": "finished",
              "livy_statement_state": "available",
              "queued_time": "2021-02-23T05:35:48.6393267Z",
              "execution_start_time": "2021-02-23T05:38:06.2540976Z",
              "execution_finish_time": "2021-02-23T05:38:10.3262243Z"
            },
            "text/plain": "StatementMeta(small, 9, 28, Finished, Available)"
          },
          "metadata": {}
        },
        {
          "output_type": "display_data",
          "data": {
            "text/html": "<pre>=============================================================<br>Plan with indexes:<br>=============================================================<br>Project [name#1458, qty#1459, date#1460, qty#1465, date#1466]<br>+- SortMergeJoin [name#1458], [name#1464], Inner<br>   :- *(2) Sort [name#1458 ASC NULLS FIRST], false, 0<br>   :  +- Exchange hashpartitioning(name#1458, 200), [id=#619]<br>   :     +- *(1) Project [name#1458, qty#1459, date#1460]<br>   :        +- *(1) Filter (isnotnull(name#1458) && (name#1458 = banana))<br>   :           +- *(1) FileScan parquet [name#1458,qty#1459,date#1460] Batched: true, Format: Parquet, Location: InMemoryFileIndex[abfss://zhaotest@bdbjtestgen2.dfs.core.windows.net/hyperspace/data-54658/produc..., PartitionFilters: [], PushedFilters: [IsNotNull(name), EqualTo(name,banana)], ReadSchema: struct<name:string,qty:int,date:string><br>   +- *(4) Sort [name#1464 ASC NULLS FIRST], false, 0<br>      +- Exchange hashpartitioning(name#1464, 200), [id=#625]<br>         +- *(3) Project [name#1464, qty#1465, date#1466]<br>            +- *(3) Filter (((isnotnull(qty#1465) && (qty#1465 > 10)) && (name#1464 = banana)) && isnotnull(name#1464))<br>               +- *(3) FileScan parquet [name#1464,qty#1465,date#1466] Batched: true, Format: Parquet, Location: InMemoryFileIndex[abfss://zhaotest@bdbjtestgen2.dfs.core.windows.net/hyperspace/data-54658/produc..., PartitionFilters: [], PushedFilters: [IsNotNull(qty), GreaterThan(qty,10), EqualTo(name,banana), IsNotNull(name)], ReadSchema: struct<name:string,qty:int,date:string><br><br>=============================================================<br>Plan without indexes:<br>=============================================================<br>Project [name#1458, qty#1459, date#1460, qty#1465, date#1466]<br>+- SortMergeJoin [name#1458], [name#1464], Inner<br>   :- *(2) Sort [name#1458 ASC NULLS FIRST], false, 0<br>   :  +- Exchange hashpartitioning(name#1458, 200), [id=#566]<br>   :     +- *(1) Project [name#1458, qty#1459, date#1460]<br>   :        +- *(1) Filter (isnotnull(name#1458) && (name#1458 = banana))<br>   :           +- *(1) FileScan parquet [name#1458,qty#1459,date#1460] Batched: true, Format: Parquet, Location: InMemoryFileIndex[abfss://zhaotest@bdbjtestgen2.dfs.core.windows.net/hyperspace/data-54658/produc..., PartitionFilters: [], PushedFilters: [IsNotNull(name), EqualTo(name,banana)], ReadSchema: struct<name:string,qty:int,date:string><br>   +- *(4) Sort [name#1464 ASC NULLS FIRST], false, 0<br>      +- Exchange hashpartitioning(name#1464, 200), [id=#572]<br>         +- *(3) Project [name#1464, qty#1465, date#1466]<br>            +- *(3) Filter (((isnotnull(qty#1465) && (qty#1465 > 10)) && (name#1464 = banana)) && isnotnull(name#1464))<br>               +- *(3) FileScan parquet [name#1464,qty#1465,date#1466] Batched: true, Format: Parquet, Location: InMemoryFileIndex[abfss://zhaotest@bdbjtestgen2.dfs.core.windows.net/hyperspace/data-54658/produc..., PartitionFilters: [], PushedFilters: [IsNotNull(qty), GreaterThan(qty,10), EqualTo(name,banana), IsNotNull(name)], ReadSchema: struct<name:string,qty:int,date:string><br><br>=============================================================<br>Indexes used:<br>=============================================================<br><br>=============================================================<br>Physical operator stats:<br>=============================================================<br>+-----------------+-------------------+------------------+----------+<br>|Physical Operator|Hyperspace Disabled|Hyperspace Enabled|Difference|<br>+-----------------+-------------------+------------------+----------+<br>|           Filter|                  2|                 2|         0|<br>|     InputAdapter|                  4|                 4|         0|<br>|          Project|                  3|                 3|         0|<br>|     Scan parquet|                  2|                 2|         0|<br>|  ShuffleExchange|                  2|                 2|         0|<br>|             Sort|                  2|                 2|         0|<br>|    SortMergeJoin|                  1|                 1|         0|<br>|WholeStageCodegen|                  5|                 5|         0|<br>+-----------------+-------------------+------------------+----------+<br><br></pre>"
          },
          "metadata": {}
        },
        {
          "output_type": "display_data",
          "data": {
            "text/plain": "\n+------+---+----------+---+----------+\n|  name|qty|      date|qty|      date|\n+------+---+----------+---+----------+\n|banana| 11|2020-10-03| 11|2020-10-03|\n|banana|  1|2020-10-01| 11|2020-10-03|\n|banana|  5|2020-11-01| 11|2020-10-03|\n+------+---+----------+---+----------+"
          },
          "metadata": {}
        },
        {
          "output_type": "execute_result",
          "data": {},
          "execution_count": 26,
          "metadata": {}
        }
      ],
      "metadata": {
        "jupyter": {
          "source_hidden": false,
          "outputs_hidden": false
        },
        "nteract": {
          "transient": {
            "deleting": false
          }
        },
        "collapsed": true
      },
      "source": [
        "# Hybrid Scan configs are false by default.\n",
        "spark.conf.set(\"spark.hyperspace.index.hybridscan.enabled\", \"false\")\n",
        "spark.conf.set(\"spark.hyperspace.index.hybridscan.delete.enabled\", \"false\")\n",
        "\n",
        "test_df_with_append = spark.read.parquet(testdata_location)\n",
        "filter1 = test_df_with_append.filter(\"name = 'banana'\")\n",
        "filter2 = test_df_with_append.filter(\"qty > 10\")\n",
        "query = filter1.join(filter2, \"name\")\n",
        "hyperspace.explain(query, True, displayHTML)\n",
        "query.show()"
      ]
    },
    {
      "cell_type": "markdown",
      "metadata": {
        "nteract": {
          "transient": {
            "deleting": false
          }
        }
      },
      "source": [
        "### Enable Hybrid Scan\r\n",
        "\r\n",
        "In plan with indexes, you can see\r\n",
        "`Exchange hashpartitioning` required only for appended files so that we could still utilize the \"shuffled\" index data with appended files. `BucketUnion` is used to merge \"shuffled\" appended files with the index data."
      ]
    },
    {
      "cell_type": "code",
      "execution_count": 27,
      "outputs": [
        {
          "output_type": "display_data",
          "data": {
            "application/vnd.livy.statement-meta+json": {
              "spark_pool": "small",
              "session_id": 9,
              "statement_id": 29,
              "state": "finished",
              "livy_statement_state": "available",
              "queued_time": "2021-02-23T05:35:48.6652408Z",
              "execution_start_time": "2021-02-23T05:38:10.3941182Z",
              "execution_finish_time": "2021-02-23T05:38:14.4777159Z"
            },
            "text/plain": "StatementMeta(small, 9, 29, Finished, Available)"
          },
          "metadata": {}
        },
        {
          "output_type": "display_data",
          "data": {
            "text/html": "<pre>=============================================================<br>Plan with indexes:<br>=============================================================<br>Project [name#1458, qty#1459, date#1460, qty#1588, date#1589]<br>+- SortMergeJoin [name#1458], [name#1587], Inner<br>   :- *(3) Sort [name#1458 ASC NULLS FIRST], false, 0<br>   <b style=\"background:LightGreen\">:  +- BucketUnion 200 buckets, bucket columns: [name]</b><br>   <b style=\"background:LightGreen\">:     :- *(1) Project [name#1458, qty#1459, date#1460]</b><br>   <b style=\"background:LightGreen\">:     :  +- *(1) Filter (isnotnull(name#1458) && (name#1458 = banana))</b><br>   <b style=\"background:LightGreen\">:     :     +- *(1) FileScan Hyperspace(Type: CI, Name: productIndex2, LogVersion: 1) [name#1458,date#1460,qty#1459] Batched: true, Format: Parquet, Location: InMemoryFileIndex[abfss://zhaotest@bdbjtestgen2.dfs.core.windows.net/hyperspace/indexes-54658/pro..., PartitionFilters: [], PushedFilters: [IsNotNull(name), EqualTo(name,banana)], ReadSchema: struct<name:string,date:string,qty:int>, SelectedBucketsCount: 1 out of 200</b><br>   <b style=\"background:LightGreen\">:     +- Exchange hashpartitioning(name#1458, 200), [id=#809]</b><br>   <b style=\"background:LightGreen\">:        +- *(2) Project [name#1458, qty#1459, date#1460]</b><br>   <b style=\"background:LightGreen\">:           +- *(2) Filter (isnotnull(name#1458) && (name#1458 = banana))</b><br>   <b style=\"background:LightGreen\">:              +- *(2) FileScan parquet [name#1458,qty#1459,date#1460] Batched: true, Format: Parquet, Location: InMemoryFileIndex[abfss://zhaotest@bdbjtestgen2.dfs.core.windows.net/hyperspace/data-54658/produc..., PartitionFilters: [], PushedFilters: [IsNotNull(name), EqualTo(name,banana)], ReadSchema: struct<name:string,qty:int,date:string></b><br>   +- *(6) Sort [name#1587 ASC NULLS FIRST], false, 0<br>      <b style=\"background:LightGreen\">+- BucketUnion 200 buckets, bucket columns: [name]</b><br>         <b style=\"background:LightGreen\">:- *(4) Project [name#1587, qty#1588, date#1589]</b><br>         <b style=\"background:LightGreen\">:  +- *(4) Filter (((isnotnull(qty#1588) && (qty#1588 > 10)) && isnotnull(name#1587)) && (name#1587 = banana))</b><br>         <b style=\"background:LightGreen\">:     +- *(4) FileScan Hyperspace(Type: CI, Name: productIndex2, LogVersion: 1) [name#1587,date#1589,qty#1588] Batched: true, Format: Parquet, Location: InMemoryFileIndex[abfss://zhaotest@bdbjtestgen2.dfs.core.windows.net/hyperspace/indexes-54658/pro..., PartitionFilters: [], PushedFilters: [IsNotNull(qty), GreaterThan(qty,10), IsNotNull(name), EqualTo(name,banana)], ReadSchema: struct<name:string,date:string,qty:int>, SelectedBucketsCount: 1 out of 200</b><br>         <b style=\"background:LightGreen\">+- Exchange hashpartitioning(name#1587, 200), [id=#817]</b><br>            <b style=\"background:LightGreen\">+- *(5) Project [name#1587, qty#1588, date#1589]</b><br>               <b style=\"background:LightGreen\">+- *(5) Filter (((isnotnull(qty#1588) && (qty#1588 > 10)) && isnotnull(name#1587)) && (name#1587 = banana))</b><br>                  <b style=\"background:LightGreen\">+- *(5) FileScan parquet [name#1587,qty#1588,date#1589] Batched: true, Format: Parquet, Location: InMemoryFileIndex[abfss://zhaotest@bdbjtestgen2.dfs.core.windows.net/hyperspace/data-54658/produc..., PartitionFilters: [], PushedFilters: [IsNotNull(qty), GreaterThan(qty,10), IsNotNull(name), EqualTo(name,banana)], ReadSchema: struct<name:string,qty:int,date:string></b><br><br>=============================================================<br>Plan without indexes:<br>=============================================================<br>Project [name#1458, qty#1459, date#1460, qty#1588, date#1589]<br>+- SortMergeJoin [name#1458], [name#1587], Inner<br>   :- *(2) Sort [name#1458 ASC NULLS FIRST], false, 0<br>   <b style=\"background:LightGreen\">:  +- Exchange hashpartitioning(name#1458, 200), [id=#735]</b><br>   <b style=\"background:LightGreen\">:     +- *(1) Project [name#1458, qty#1459, date#1460]</b><br>   <b style=\"background:LightGreen\">:        +- *(1) Filter (isnotnull(name#1458) && (name#1458 = banana))</b><br>   <b style=\"background:LightGreen\">:           +- *(1) FileScan parquet [name#1458,qty#1459,date#1460] Batched: true, Format: Parquet, Location: InMemoryFileIndex[abfss://zhaotest@bdbjtestgen2.dfs.core.windows.net/hyperspace/data-54658/produc..., PartitionFilters: [], PushedFilters: [IsNotNull(name), EqualTo(name,banana)], ReadSchema: struct<name:string,qty:int,date:string></b><br>   +- *(4) Sort [name#1587 ASC NULLS FIRST], false, 0<br>      <b style=\"background:LightGreen\">+- Exchange hashpartitioning(name#1587, 200), [id=#741]</b><br>         <b style=\"background:LightGreen\">+- *(3) Project [name#1587, qty#1588, date#1589]</b><br>            <b style=\"background:LightGreen\">+- *(3) Filter (((isnotnull(qty#1588) && (qty#1588 > 10)) && isnotnull(name#1587)) && (name#1587 = banana))</b><br>               <b style=\"background:LightGreen\">+- *(3) FileScan parquet [name#1587,qty#1588,date#1589] Batched: true, Format: Parquet, Location: InMemoryFileIndex[abfss://zhaotest@bdbjtestgen2.dfs.core.windows.net/hyperspace/data-54658/produc..., PartitionFilters: [], PushedFilters: [IsNotNull(qty), GreaterThan(qty,10), IsNotNull(name), EqualTo(name,banana)], ReadSchema: struct<name:string,qty:int,date:string></b><br><br>=============================================================<br>Indexes used:<br>=============================================================<br>productIndex2:abfss://zhaotest@bdbjtestgen2.dfs.core.windows.net/hyperspace/indexes-54658/productIndex2/v__=0<br><br>=============================================================<br>Physical operator stats:<br>=============================================================<br>+--------------------------------------------------------------+-------------------+------------------+----------+<br>|                                             Physical Operator|Hyperspace Disabled|Hyperspace Enabled|Difference|<br>+--------------------------------------------------------------+-------------------+------------------+----------+<br>|                                                  *BucketUnion|                  0|                 2|         2|<br>|                                                       *Filter|                  2|                 4|         2|<br>|                                                      *Project|                  3|                 5|         2|<br>|*Scan Hyperspace(Type: CI, Name: productIndex2, LogVersion: 1)|                  0|                 2|         2|<br>|                                            *WholeStageCodegen|                  5|                 7|         2|<br>|                                                  InputAdapter|                  4|                 4|         0|<br>|                                                  Scan parquet|                  2|                 2|         0|<br>|                                               ShuffleExchange|                  2|                 2|         0|<br>|                                                          Sort|                  2|                 2|         0|<br>|                                                 SortMergeJoin|                  1|                 1|         0|<br>+--------------------------------------------------------------+-------------------+------------------+----------+<br><br></pre>"
          },
          "metadata": {}
        },
        {
          "output_type": "display_data",
          "data": {
            "text/plain": "\n+------+---+----------+---+----------+\n|  name|qty|      date|qty|      date|\n+------+---+----------+---+----------+\n|banana|  1|2020-10-01| 11|2020-10-03|\n|banana| 11|2020-10-03| 11|2020-10-03|\n|banana|  5|2020-11-01| 11|2020-10-03|\n+------+---+----------+---+----------+"
          },
          "metadata": {}
        },
        {
          "output_type": "execute_result",
          "data": {},
          "execution_count": 27,
          "metadata": {}
        }
      ],
      "metadata": {
        "jupyter": {
          "source_hidden": false,
          "outputs_hidden": false
        },
        "nteract": {
          "transient": {
            "deleting": false
          }
        },
        "collapsed": true
      },
      "source": [
        "# Enable Hybrid Scan config. \"delete\" config is not necessary.\n",
        "spark.conf.set(\"spark.hyperspace.index.hybridscan.enabled\", \"true\")\n",
        "# spark.conf.set(\"spark.hyperspace.index.hybridscan.delete.enabled\", \"true\")\n",
        "\n",
        "# Need to redefine query to recalculate the query plan.\n",
        "query = filter1.join(filter2, \"name\")\n",
        "hyperspace.explain(query, True, displayHTML)\n",
        "query.show()"
      ]
    },
    {
      "cell_type": "markdown",
      "metadata": {},
      "source": [
        "## Incremental Index Refresh\n",
        "When you ready to update your indexes but do not want to rebuild your entire index, Hyperspace supports updating indexes in an incremental manner using `hs.refreshIndex(\"name\", \"incremental\")` API. This will allow eliminate the need for a full rebuild of index from scratch, utilizing previously created index files as well as updating indexes on only the newly added data.\n",
        "\n",
        "Of course, please be sure to use the complementary `optimizeIndex` API (shown below) periodically to make sure you do not see performance regressions. We recommend calling `optimize` at least once for every 10 times you call `refreshIndex(..., \"incremental\")`, assuming the data you added/removed is < 10% of the original dataset. For instance, if your original dataset is 100 GB, and you've added/removed data in increments/decrements of 1 GB, you can call `refreshIndex` 10 times before calling `optimizeIndex`. Please note that this example is simply used for illustration and you have to adapt this for your workloads.\n",
        "\n",
        "In the example below, notice the addition of a `Sort` node in the query plan when indexes are used. This is because partial indexes are created on the appended data files, causing Spark to introduce a `Sort`. Please also note that `Shuffle` i.e. `Exchange` is still eliminated from the plan, giving you the appropriate acceleration."
      ]
    },
    {
      "cell_type": "code",
      "execution_count": 28,
      "outputs": [
        {
          "output_type": "display_data",
          "data": {
            "application/vnd.livy.statement-meta+json": {
              "spark_pool": "small",
              "session_id": 9,
              "statement_id": 30,
              "state": "finished",
              "livy_statement_state": "available",
              "queued_time": "2021-02-23T05:35:48.694969Z",
              "execution_start_time": "2021-02-23T05:38:14.5441074Z",
              "execution_finish_time": "2021-02-23T05:38:16.5839014Z"
            },
            "text/plain": "StatementMeta(small, 9, 30, Finished, Available)"
          },
          "metadata": {}
        },
        {
          "output_type": "execute_result",
          "data": {
            "text/plain": ""
          },
          "execution_count": 28,
          "metadata": {}
        }
      ],
      "metadata": {},
      "source": [
        "def query():\n",
        "    test_df_with_append = spark.read.parquet(testdata_location)\n",
        "    filter1 = test_df_with_append.filter(\"name = 'banana'\")\n",
        "    filter2 = test_df_with_append.filter(\"qty > 10\")\n",
        "    return filter1.join(filter2, \"name\")"
      ]
    },
    {
      "cell_type": "code",
      "execution_count": 29,
      "outputs": [
        {
          "output_type": "display_data",
          "data": {
            "application/vnd.livy.statement-meta+json": {
              "spark_pool": "small",
              "session_id": 9,
              "statement_id": 31,
              "state": "finished",
              "livy_statement_state": "available",
              "queued_time": "2021-02-23T05:35:48.7232877Z",
              "execution_start_time": "2021-02-23T05:38:16.643136Z",
              "execution_finish_time": "2021-02-23T05:38:22.7672661Z"
            },
            "text/plain": "StatementMeta(small, 9, 31, Finished, Available)"
          },
          "metadata": {}
        },
        {
          "output_type": "display_data",
          "data": {
            "text/html": "<pre>=============================================================<br>Plan with indexes:<br>=============================================================<br>Project [name#1740, qty#1741, date#1742, qty#1747, date#1748]<br>+- SortMergeJoin [name#1740], [name#1746], Inner<br>   :- *(1) Sort [name#1740 ASC NULLS FIRST], false, 0<br>   <b style=\"background:LightGreen\">:  +- *(1) Project [name#1740, qty#1741, date#1742]</b><br>   <b style=\"background:LightGreen\">:     +- *(1) Filter (isnotnull(name#1740) && (name#1740 = banana))</b><br>   <b style=\"background:LightGreen\">:        +- *(1) FileScan Hyperspace(Type: CI, Name: productIndex2, LogVersion: 3) [name#1740,date#1742,qty#1741] Batched: true, Format: Parquet, Location: InMemoryFileIndex[abfss://zhaotest@bdbjtestgen2.dfs.core.windows.net/hyperspace/indexes-54658/pro..., PartitionFilters: [], PushedFilters: [IsNotNull(name), EqualTo(name,banana)], ReadSchema: struct<name:string,date:string,qty:int>, SelectedBucketsCount: 1 out of 200</b><br>   +- *(2) Sort [name#1746 ASC NULLS FIRST], false, 0<br>      <b style=\"background:LightGreen\">+- *(2) Project [name#1746, qty#1747, date#1748]</b><br>         <b style=\"background:LightGreen\">+- *(2) Filter (((isnotnull(qty#1747) && (qty#1747 > 10)) && (name#1746 = banana)) && isnotnull(name#1746))</b><br>            <b style=\"background:LightGreen\">+- *(2) FileScan Hyperspace(Type: CI, Name: productIndex2, LogVersion: 3) [name#1746,date#1748,qty#1747] Batched: true, Format: Parquet, Location: InMemoryFileIndex[abfss://zhaotest@bdbjtestgen2.dfs.core.windows.net/hyperspace/indexes-54658/pro..., PartitionFilters: [], PushedFilters: [IsNotNull(qty), GreaterThan(qty,10), EqualTo(name,banana), IsNotNull(name)], ReadSchema: struct<name:string,date:string,qty:int>, SelectedBucketsCount: 1 out of 200</b><br><br>=============================================================<br>Plan without indexes:<br>=============================================================<br>Project [name#1740, qty#1741, date#1742, qty#1747, date#1748]<br>+- SortMergeJoin [name#1740], [name#1746], Inner<br>   :- *(2) Sort [name#1740 ASC NULLS FIRST], false, 0<br>   <b style=\"background:LightGreen\">:  +- Exchange hashpartitioning(name#1740, 200), [id=#965]</b><br>   <b style=\"background:LightGreen\">:     +- *(1) Project [name#1740, qty#1741, date#1742]</b><br>   <b style=\"background:LightGreen\">:        +- *(1) Filter (isnotnull(name#1740) && (name#1740 = banana))</b><br>   <b style=\"background:LightGreen\">:           +- *(1) FileScan parquet [name#1740,qty#1741,date#1742] Batched: true, Format: Parquet, Location: InMemoryFileIndex[abfss://zhaotest@bdbjtestgen2.dfs.core.windows.net/hyperspace/data-54658/produc..., PartitionFilters: [], PushedFilters: [IsNotNull(name), EqualTo(name,banana)], ReadSchema: struct<name:string,qty:int,date:string></b><br>   +- *(4) Sort [name#1746 ASC NULLS FIRST], false, 0<br>      <b style=\"background:LightGreen\">+- Exchange hashpartitioning(name#1746, 200), [id=#971]</b><br>         <b style=\"background:LightGreen\">+- *(3) Project [name#1746, qty#1747, date#1748]</b><br>            <b style=\"background:LightGreen\">+- *(3) Filter (((isnotnull(qty#1747) && (qty#1747 > 10)) && (name#1746 = banana)) && isnotnull(name#1746))</b><br>               <b style=\"background:LightGreen\">+- *(3) FileScan parquet [name#1746,qty#1747,date#1748] Batched: true, Format: Parquet, Location: InMemoryFileIndex[abfss://zhaotest@bdbjtestgen2.dfs.core.windows.net/hyperspace/data-54658/produc..., PartitionFilters: [], PushedFilters: [IsNotNull(qty), GreaterThan(qty,10), EqualTo(name,banana), IsNotNull(name)], ReadSchema: struct<name:string,qty:int,date:string></b><br><br>=============================================================<br>Indexes used:<br>=============================================================<br><br>=============================================================<br>Physical operator stats:<br>=============================================================<br>+--------------------------------------------------------------+-------------------+------------------+----------+<br>|                                             Physical Operator|Hyperspace Disabled|Hyperspace Enabled|Difference|<br>+--------------------------------------------------------------+-------------------+------------------+----------+<br>|                                                 *InputAdapter|                  4|                 2|        -2|<br>|*Scan Hyperspace(Type: CI, Name: productIndex2, LogVersion: 3)|                  0|                 2|         2|<br>|                                                 *Scan parquet|                  2|                 0|        -2|<br>|                                              *ShuffleExchange|                  2|                 0|        -2|<br>|                                            *WholeStageCodegen|                  5|                 3|        -2|<br>|                                                        Filter|                  2|                 2|         0|<br>|                                                       Project|                  3|                 3|         0|<br>|                                                          Sort|                  2|                 2|         0|<br>|                                                 SortMergeJoin|                  1|                 1|         0|<br>+--------------------------------------------------------------+-------------------+------------------+----------+<br><br></pre>"
          },
          "metadata": {}
        },
        {
          "output_type": "display_data",
          "data": {
            "text/plain": "\n+------+---+----------+---+----------+\n|  name|qty|      date|qty|      date|\n+------+---+----------+---+----------+\n|banana|  1|2020-10-01| 11|2020-10-03|\n|banana| 11|2020-10-03| 11|2020-10-03|\n|banana|  5|2020-11-01| 11|2020-10-03|\n+------+---+----------+---+----------+"
          },
          "metadata": {}
        },
        {
          "output_type": "execute_result",
          "data": {},
          "execution_count": 29,
          "metadata": {}
        }
      ],
      "metadata": {},
      "source": [
        "hyperspace.refreshIndex(\"productIndex2\", \"incremental\")\n",
        "\n",
        "hyperspace.explain(query(), True, displayHTML)\n",
        "query().show()"
      ]
    },
    {
      "cell_type": "markdown",
      "metadata": {},
      "source": [
        "## Optimize Index layout\n",
        "After calling incremental refreshes multiple times on newly appended data (e.g. if the user writes to data in small batches or in case of streaming scenarios), the number of index files tend to become large affecting the performance of the index (large number of small files problem). Hyperspace provides `hyperspace.optimizeIndex(\"indexName\")` API to optimize the index layout and reduce the large files problem.\n",
        "\n",
        "In the plan below, notice that Hyperspace has removed the additional `Sort` node in the query plan. Optimize can help avoiding sorting for any index bucket which contains only one file. However, this will only be true if ALL the index buckets have at most 1 file per bucket, after `optimizeIndex`."
      ]
    },
    {
      "cell_type": "code",
      "execution_count": 30,
      "outputs": [
        {
          "output_type": "display_data",
          "data": {
            "application/vnd.livy.statement-meta+json": {
              "spark_pool": "small",
              "session_id": 9,
              "statement_id": 32,
              "state": "finished",
              "livy_statement_state": "available",
              "queued_time": "2021-02-23T05:35:48.7531796Z",
              "execution_start_time": "2021-02-23T05:38:22.8334708Z",
              "execution_finish_time": "2021-02-23T05:38:26.9043449Z"
            },
            "text/plain": "StatementMeta(small, 9, 32, Finished, Available)"
          },
          "metadata": {}
        },
        {
          "output_type": "execute_result",
          "data": {
            "text/plain": ""
          },
          "execution_count": 30,
          "metadata": {}
        }
      ],
      "metadata": {},
      "source": [
        "# Append some more data and call refresh again.\n",
        "append_data = [\n",
        "    (\"orange\", 13, \"2020-11-01\"),\n",
        "    (\"banana\", 5, \"2020-11-01\")\n",
        "]\n",
        "append_df = spark.createDataFrame(append_data, testdata_schema)\n",
        "append_df.write.mode(\"append\").parquet(testdata_location)\n",
        "\n",
        "hyperspace.refreshIndex(\"productIndex2\", \"incremental\")"
      ]
    },
    {
      "cell_type": "code",
      "execution_count": 31,
      "outputs": [
        {
          "output_type": "display_data",
          "data": {
            "application/vnd.livy.statement-meta+json": {
              "spark_pool": "small",
              "session_id": 9,
              "statement_id": 33,
              "state": "finished",
              "livy_statement_state": "available",
              "queued_time": "2021-02-23T05:35:48.7794958Z",
              "execution_start_time": "2021-02-23T05:38:26.9699805Z",
              "execution_finish_time": "2021-02-23T05:38:33.0930688Z"
            },
            "text/plain": "StatementMeta(small, 9, 33, Finished, Available)"
          },
          "metadata": {}
        },
        {
          "output_type": "display_data",
          "data": {
            "text/html": "<pre>=============================================================<br>Plan with indexes:<br>=============================================================<br>Project [name#1931, qty#1932, date#1933, qty#1938, date#1939]<br>+- SortMergeJoin [name#1931], [name#1937], Inner<br>   <b style=\"background:LightGreen\">:- *(1) Project [name#1931, qty#1932, date#1933]</b><br>   <b style=\"background:LightGreen\">:  +- *(1) Filter (isnotnull(name#1931) && (name#1931 = banana))</b><br>   <b style=\"background:LightGreen\">:     +- *(1) FileScan Hyperspace(Type: CI, Name: productIndex2, LogVersion: 7) [name#1931,date#1933,qty#1932] Batched: true, Format: Parquet, Location: InMemoryFileIndex[abfss://zhaotest@bdbjtestgen2.dfs.core.windows.net/hyperspace/indexes-54658/pro..., PartitionFilters: [], PushedFilters: [IsNotNull(name), EqualTo(name,banana)], ReadSchema: struct<name:string,date:string,qty:int>, SelectedBucketsCount: 1 out of 200</b><br>   <b style=\"background:LightGreen\">+- *(2) Project [name#1937, qty#1938, date#1939]</b><br>      <b style=\"background:LightGreen\">+- *(2) Filter (((isnotnull(qty#1938) && (qty#1938 > 10)) && (name#1937 = banana)) && isnotnull(name#1937))</b><br>         <b style=\"background:LightGreen\">+- *(2) FileScan Hyperspace(Type: CI, Name: productIndex2, LogVersion: 7) [name#1937,date#1939,qty#1938] Batched: true, Format: Parquet, Location: InMemoryFileIndex[abfss://zhaotest@bdbjtestgen2.dfs.core.windows.net/hyperspace/indexes-54658/pro..., PartitionFilters: [], PushedFilters: [IsNotNull(qty), GreaterThan(qty,10), EqualTo(name,banana), IsNotNull(name)], ReadSchema: struct<name:string,date:string,qty:int>, SelectedBucketsCount: 1 out of 200</b><br><br>=============================================================<br>Plan without indexes:<br>=============================================================<br>Project [name#1931, qty#1932, date#1933, qty#1938, date#1939]<br>+- SortMergeJoin [name#1931], [name#1937], Inner<br>   <b style=\"background:LightGreen\">:- *(2) Sort [name#1931 ASC NULLS FIRST], false, 0</b><br>   <b style=\"background:LightGreen\">:  +- Exchange hashpartitioning(name#1931, 200), [id=#1112]</b><br>   <b style=\"background:LightGreen\">:     +- *(1) Project [name#1931, qty#1932, date#1933]</b><br>   <b style=\"background:LightGreen\">:        +- *(1) Filter (isnotnull(name#1931) && (name#1931 = banana))</b><br>   <b style=\"background:LightGreen\">:           +- *(1) FileScan parquet [name#1931,qty#1932,date#1933] Batched: true, Format: Parquet, Location: InMemoryFileIndex[abfss://zhaotest@bdbjtestgen2.dfs.core.windows.net/hyperspace/data-54658/produc..., PartitionFilters: [], PushedFilters: [IsNotNull(name), EqualTo(name,banana)], ReadSchema: struct<name:string,qty:int,date:string></b><br>   <b style=\"background:LightGreen\">+- *(4) Sort [name#1937 ASC NULLS FIRST], false, 0</b><br>      <b style=\"background:LightGreen\">+- Exchange hashpartitioning(name#1937, 200), [id=#1118]</b><br>         <b style=\"background:LightGreen\">+- *(3) Project [name#1937, qty#1938, date#1939]</b><br>            <b style=\"background:LightGreen\">+- *(3) Filter (((isnotnull(qty#1938) && (qty#1938 > 10)) && (name#1937 = banana)) && isnotnull(name#1937))</b><br>               <b style=\"background:LightGreen\">+- *(3) FileScan parquet [name#1937,qty#1938,date#1939] Batched: true, Format: Parquet, Location: InMemoryFileIndex[abfss://zhaotest@bdbjtestgen2.dfs.core.windows.net/hyperspace/data-54658/produc..., PartitionFilters: [], PushedFilters: [IsNotNull(qty), GreaterThan(qty,10), EqualTo(name,banana), IsNotNull(name)], ReadSchema: struct<name:string,qty:int,date:string></b><br><br>=============================================================<br>Indexes used:<br>=============================================================<br><br>=============================================================<br>Physical operator stats:<br>=============================================================<br>+--------------------------------------------------------------+-------------------+------------------+----------+<br>|                                             Physical Operator|Hyperspace Disabled|Hyperspace Enabled|Difference|<br>+--------------------------------------------------------------+-------------------+------------------+----------+<br>|                                                 *InputAdapter|                  4|                 2|        -2|<br>|*Scan Hyperspace(Type: CI, Name: productIndex2, LogVersion: 7)|                  0|                 2|         2|<br>|                                                 *Scan parquet|                  2|                 0|        -2|<br>|                                              *ShuffleExchange|                  2|                 0|        -2|<br>|                                                         *Sort|                  2|                 0|        -2|<br>|                                            *WholeStageCodegen|                  5|                 3|        -2|<br>|                                                        Filter|                  2|                 2|         0|<br>|                                                       Project|                  3|                 3|         0|<br>|                                                 SortMergeJoin|                  1|                 1|         0|<br>+--------------------------------------------------------------+-------------------+------------------+----------+<br><br></pre>"
          },
          "metadata": {}
        },
        {
          "output_type": "execute_result",
          "data": {},
          "execution_count": 31,
          "metadata": {}
        }
      ],
      "metadata": {},
      "source": [
        "# Call optimize. Ensure that Sort is removed after optimization (This is possible here because after optimize, in this case, every bucket contains only 1 file.).\n",
        "hyperspace.optimizeIndex(\"productIndex2\")\n",
        "\n",
        "hyperspace.explain(query(), True, displayHTML)"
      ]
    },
    {
      "cell_type": "markdown",
      "metadata": {},
      "source": [
        "## Optimize modes\n",
        "\n",
        "The default mode for optimization is \"quick\" mode where files smaller than a predefined threshold are picked for optmization. To maximize the effect of optimization, Hyperspace allows another optimize mode \"full\" as shown below. This mode picks ALL index files for optimization irrespective of their file size and creates the best possible layout of the index. This is also slower than the default optimize mode because more data is being processed here.\n",
        ""
      ]
    },
    {
      "cell_type": "code",
      "execution_count": 32,
      "outputs": [
        {
          "output_type": "display_data",
          "data": {
            "application/vnd.livy.statement-meta+json": {
              "spark_pool": "small",
              "session_id": 9,
              "statement_id": 34,
              "state": "finished",
              "livy_statement_state": "available",
              "queued_time": "2021-02-23T05:35:48.8093737Z",
              "execution_start_time": "2021-02-23T05:38:33.1611394Z",
              "execution_finish_time": "2021-02-23T05:38:35.1958851Z"
            },
            "text/plain": "StatementMeta(small, 9, 34, Finished, Available)"
          },
          "metadata": {}
        },
        {
          "output_type": "display_data",
          "data": {
            "text/html": "<pre>=============================================================<br>Plan with indexes:<br>=============================================================<br>Project [name#2044, qty#2045, date#2046, qty#2051, date#2052]<br>+- SortMergeJoin [name#2044], [name#2050], Inner<br>   <b style=\"background:LightGreen\">:- *(1) Project [name#2044, qty#2045, date#2046]</b><br>   <b style=\"background:LightGreen\">:  +- *(1) Filter (isnotnull(name#2044) && (name#2044 = banana))</b><br>   <b style=\"background:LightGreen\">:     +- *(1) FileScan Hyperspace(Type: CI, Name: productIndex2, LogVersion: 7) [name#2044,date#2046,qty#2045] Batched: true, Format: Parquet, Location: InMemoryFileIndex[abfss://zhaotest@bdbjtestgen2.dfs.core.windows.net/hyperspace/indexes-54658/pro..., PartitionFilters: [], PushedFilters: [IsNotNull(name), EqualTo(name,banana)], ReadSchema: struct<name:string,date:string,qty:int>, SelectedBucketsCount: 1 out of 200</b><br>   <b style=\"background:LightGreen\">+- *(2) Project [name#2050, qty#2051, date#2052]</b><br>      <b style=\"background:LightGreen\">+- *(2) Filter (((isnotnull(qty#2051) && (qty#2051 > 10)) && isnotnull(name#2050)) && (name#2050 = banana))</b><br>         <b style=\"background:LightGreen\">+- *(2) FileScan Hyperspace(Type: CI, Name: productIndex2, LogVersion: 7) [name#2050,date#2052,qty#2051] Batched: true, Format: Parquet, Location: InMemoryFileIndex[abfss://zhaotest@bdbjtestgen2.dfs.core.windows.net/hyperspace/indexes-54658/pro..., PartitionFilters: [], PushedFilters: [IsNotNull(qty), GreaterThan(qty,10), IsNotNull(name), EqualTo(name,banana)], ReadSchema: struct<name:string,date:string,qty:int>, SelectedBucketsCount: 1 out of 200</b><br><br>=============================================================<br>Plan without indexes:<br>=============================================================<br>Project [name#2044, qty#2045, date#2046, qty#2051, date#2052]<br>+- SortMergeJoin [name#2044], [name#2050], Inner<br>   <b style=\"background:LightGreen\">:- *(2) Sort [name#2044 ASC NULLS FIRST], false, 0</b><br>   <b style=\"background:LightGreen\">:  +- Exchange hashpartitioning(name#2044, 200), [id=#1194]</b><br>   <b style=\"background:LightGreen\">:     +- *(1) Project [name#2044, qty#2045, date#2046]</b><br>   <b style=\"background:LightGreen\">:        +- *(1) Filter (isnotnull(name#2044) && (name#2044 = banana))</b><br>   <b style=\"background:LightGreen\">:           +- *(1) FileScan parquet [name#2044,qty#2045,date#2046] Batched: true, Format: Parquet, Location: InMemoryFileIndex[abfss://zhaotest@bdbjtestgen2.dfs.core.windows.net/hyperspace/data-54658/produc..., PartitionFilters: [], PushedFilters: [IsNotNull(name), EqualTo(name,banana)], ReadSchema: struct<name:string,qty:int,date:string></b><br>   <b style=\"background:LightGreen\">+- *(4) Sort [name#2050 ASC NULLS FIRST], false, 0</b><br>      <b style=\"background:LightGreen\">+- Exchange hashpartitioning(name#2050, 200), [id=#1200]</b><br>         <b style=\"background:LightGreen\">+- *(3) Project [name#2050, qty#2051, date#2052]</b><br>            <b style=\"background:LightGreen\">+- *(3) Filter (((isnotnull(qty#2051) && (qty#2051 > 10)) && isnotnull(name#2050)) && (name#2050 = banana))</b><br>               <b style=\"background:LightGreen\">+- *(3) FileScan parquet [name#2050,qty#2051,date#2052] Batched: true, Format: Parquet, Location: InMemoryFileIndex[abfss://zhaotest@bdbjtestgen2.dfs.core.windows.net/hyperspace/data-54658/produc..., PartitionFilters: [], PushedFilters: [IsNotNull(qty), GreaterThan(qty,10), IsNotNull(name), EqualTo(name,banana)], ReadSchema: struct<name:string,qty:int,date:string></b><br><br>=============================================================<br>Indexes used:<br>=============================================================<br><br>=============================================================<br>Physical operator stats:<br>=============================================================<br>+--------------------------------------------------------------+-------------------+------------------+----------+<br>|                                             Physical Operator|Hyperspace Disabled|Hyperspace Enabled|Difference|<br>+--------------------------------------------------------------+-------------------+------------------+----------+<br>|                                                 *InputAdapter|                  4|                 2|        -2|<br>|*Scan Hyperspace(Type: CI, Name: productIndex2, LogVersion: 7)|                  0|                 2|         2|<br>|                                                 *Scan parquet|                  2|                 0|        -2|<br>|                                              *ShuffleExchange|                  2|                 0|        -2|<br>|                                                         *Sort|                  2|                 0|        -2|<br>|                                            *WholeStageCodegen|                  5|                 3|        -2|<br>|                                                        Filter|                  2|                 2|         0|<br>|                                                       Project|                  3|                 3|         0|<br>|                                                 SortMergeJoin|                  1|                 1|         0|<br>+--------------------------------------------------------------+-------------------+------------------+----------+<br><br></pre>"
          },
          "metadata": {}
        },
        {
          "output_type": "execute_result",
          "data": {},
          "execution_count": 32,
          "metadata": {}
        }
      ],
      "metadata": {},
      "source": [
        "hyperspace.optimizeIndex(\"productIndex2\", \"full\")\n",
        "\n",
        "hyperspace.explain(query(), True, displayHTML)"
      ]
    },
    {
      "cell_type": "markdown",
      "metadata": {},
      "source": [
        "## Clean Up\n",
        "To make this notebook self-contained and not leave any dangling data, we have some small clean-up code below. "
      ]
    },
    {
      "cell_type": "code",
      "execution_count": 33,
      "outputs": [
        {
          "output_type": "display_data",
          "data": {
            "application/vnd.livy.statement-meta+json": {
              "spark_pool": "small",
              "session_id": 9,
              "statement_id": 35,
              "state": "finished",
              "livy_statement_state": "available",
              "queued_time": "2021-02-23T05:35:48.8371789Z",
              "execution_start_time": "2021-02-23T05:38:35.2811299Z",
              "execution_finish_time": "2021-02-23T05:38:37.3140339Z"
            },
            "text/plain": "StatementMeta(small, 9, 35, Finished, Available)"
          },
          "metadata": {}
        },
        {
          "output_type": "execute_result",
          "data": {
            "text/plain": "True"
          },
          "execution_count": 33,
          "metadata": {}
        }
      ],
      "metadata": {},
      "source": [
        "mssparkutils.fs.rm(data_path, True)\n",
        "mssparkutils.fs.rm(index_location, True)"
      ]
    }
  ]
}